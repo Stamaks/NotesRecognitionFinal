{
 "cells": [
  {
   "cell_type": "code",
   "execution_count": 1,
   "metadata": {},
   "outputs": [
    {
     "data": {
      "text/plain": [
       "1"
      ]
     },
     "execution_count": 1,
     "metadata": {},
     "output_type": "execute_result"
    }
   ],
   "source": [
    "1"
   ]
  },
  {
   "cell_type": "code",
   "execution_count": 2,
   "metadata": {},
   "outputs": [
    {
     "name": "stdout",
     "output_type": "stream",
     "text": [
      "env: THEANO_FLAGS=\"device=gpu2\"\n"
     ]
    },
    {
     "name": "stderr",
     "output_type": "stream",
     "text": [
      "WARNING (theano.sandbox.cuda): The cuda backend is deprecated and will be removed in the next release (v0.10).  Please switch to the gpuarray backend. You can get more information about how to switch at this URL:\n",
      " https://github.com/Theano/Theano/wiki/Converting-to-the-new-gpu-back-end%28gpuarray%29\n",
      "\n",
      "Using gpu device 2: GeForce GTX 1080 (CNMeM is enabled with initial size: 22.0% of memory, cuDNN 5110)\n"
     ]
    }
   ],
   "source": [
    "%env THEANO_FLAGS=\"device=gpu2\"\n",
    "import numpy as np\n",
    "import theano\n",
    "theano.config.floatX='float32'\n",
    "import theano.tensor as T\n",
    "import lasagne\n",
    "from lasagne.layers import *\n",
    "import pickle\n",
    "from tqdm import tqdm_notebook\n",
    "from librosa import load, logamplitude\n",
    "from librosa.feature import melspectrogram\n",
    "from multiprocessing import Pool\n",
    "import matplotlib.pyplot as plt\n",
    "%matplotlib inline\n",
    "import matplotlib as mpl\n",
    "mpl.style.use('classic')"
   ]
  },
  {
   "cell_type": "code",
   "execution_count": 3,
   "metadata": {
    "collapsed": true
   },
   "outputs": [],
   "source": [
    "files = pickle.load(open(\"spectrograms_wirh_names_for_nn\", \"rb\"))\n",
    "names = [files[i][0] for i in range(len(files))]\n",
    "spectrograms = [files[i][1] for i in range(len(files))]\n",
    "del files"
   ]
  },
  {
   "cell_type": "code",
   "execution_count": 4,
   "metadata": {},
   "outputs": [
    {
     "data": {
      "application/vnd.jupyter.widget-view+json": {
       "model_id": "d4334775399b4143b3a31d5c5aae66ff"
      }
     },
     "metadata": {},
     "output_type": "display_data"
    },
    {
     "name": "stdout",
     "output_type": "stream",
     "text": [
      "\n"
     ]
    }
   ],
   "source": [
    "MUP_data_answ = []\n",
    "for i in tqdm_notebook(range(len(names))):\n",
    "    strs = names[i].split(\"|\")\n",
    "    a = np.zeros((88, len(strs)*3))    \n",
    "    for j in range(len(strs)*3):\n",
    "        notes = strs[j // 3][:-4].split(\",\")\n",
    "        for k in range(len(notes)):\n",
    "            if 70 > int(notes[k]) - 21 >= 50:\n",
    "                a[int(notes[k]) - 21][j] = 1\n",
    "    MUP_data_answ.append(a)"
   ]
  },
  {
   "cell_type": "code",
   "execution_count": 5,
   "metadata": {},
   "outputs": [
    {
     "data": {
      "application/vnd.jupyter.widget-view+json": {
       "model_id": "600d7236359846558e2e2e943da8bbb4"
      }
     },
     "metadata": {},
     "output_type": "display_data"
    },
    {
     "name": "stdout",
     "output_type": "stream",
     "text": [
      "\n"
     ]
    }
   ],
   "source": [
    "MDOWN_data_answ = []\n",
    "for i in tqdm_notebook(range(len(names))):\n",
    "    strs = names[i].split(\"|\")\n",
    "    a = np.zeros((88, len(strs)*3))    \n",
    "    for j in range(len(strs)*3):\n",
    "        notes = strs[j // 3][:-4].split(\",\")\n",
    "        for k in range(len(notes)):\n",
    "            if 50 > int(notes[k]) - 21 > 30:\n",
    "                a[int(notes[k]) - 21][j] = 1\n",
    "    MDOWN_data_answ.append(a)"
   ]
  },
  {
   "cell_type": "code",
   "execution_count": 10,
   "metadata": {},
   "outputs": [
    {
     "data": {
      "text/plain": [
       "1"
      ]
     },
     "execution_count": 10,
     "metadata": {},
     "output_type": "execute_result"
    }
   ],
   "source": [
    "1"
   ]
  },
  {
   "cell_type": "code",
   "execution_count": 11,
   "metadata": {
    "collapsed": true
   },
   "outputs": [],
   "source": [
    "max_len = max(list(zip(*list(map(np.shape,MUP_data_answ))))[1])\n",
    "MUP_answ_tensor = np.zeros((len(MUP_data_answ),88,max_len),dtype='uint8')\n",
    "MDOWN_answ_tensor = np.zeros((len(MDOWN_data_answ),88,max_len),dtype='uint8')\n",
    "max_len_spec = max(list(zip(*list(map(np.shape,spectrograms))))[1])\n",
    "spec_tensor = np.zeros((len(spectrograms),128,max_len_spec),dtype='float32')"
   ]
  },
  {
   "cell_type": "code",
   "execution_count": 12,
   "metadata": {},
   "outputs": [
    {
     "data": {
      "application/vnd.jupyter.widget-view+json": {
       "model_id": "6c3e278cd97d48ed889d49d7de9f69fa"
      }
     },
     "metadata": {},
     "output_type": "display_data"
    },
    {
     "name": "stdout",
     "output_type": "stream",
     "text": [
      "44020/|/ 72%|| 44020/61201 [04:20<01:41, 169.13it/s]\n",
      "\n"
     ]
    }
   ],
   "source": [
    "for i in tqdm_notebook(range(len(MUP_data_answ))):\n",
    "    for j in range(len(MUP_data_answ[i])):\n",
    "        for x in range(len(MUP_data_answ[i][j])):\n",
    "            if MUP_data_answ[i][j][x] == 1:\n",
    "                MUP_answ_tensor[i][j][x] = 1"
   ]
  },
  {
   "cell_type": "code",
   "execution_count": 13,
   "metadata": {},
   "outputs": [
    {
     "data": {
      "application/vnd.jupyter.widget-view+json": {
       "model_id": "a10f304e45fb4695a827f382a69a5589"
      }
     },
     "metadata": {},
     "output_type": "display_data"
    },
    {
     "name": "stdout",
     "output_type": "stream",
     "text": [
      "\n"
     ]
    }
   ],
   "source": [
    "for i in tqdm_notebook(range(len(MDOWN_data_answ))):\n",
    "    for j in range(len(MDOWN_data_answ[i])):\n",
    "        for x in range(len(MDOWN_data_answ[i][j])):\n",
    "            if MDOWN_data_answ[i][j][x] == 1:\n",
    "                MDOWN_answ_tensor[i][j][x] = 1"
   ]
  },
  {
   "cell_type": "code",
   "execution_count": 14,
   "metadata": {},
   "outputs": [
    {
     "data": {
      "application/vnd.jupyter.widget-view+json": {
       "model_id": "66a6a8d6b8fd4d30a51a83eeb21a5b4e"
      }
     },
     "metadata": {},
     "output_type": "display_data"
    },
    {
     "name": "stdout",
     "output_type": "stream",
     "text": [
      "\n"
     ]
    }
   ],
   "source": [
    "for i in tqdm_notebook(range(len(spectrograms))):\n",
    "    for j in range(len(spectrograms[i])):\n",
    "        for x in range(len(spectrograms[i][j])):\n",
    "            spec_tensor[i][j][x] = spectrograms[i][j][x]\n",
    "        for n in range(x, len(spec_tensor[i][j])):\n",
    "            spec_tensor[i][j][n] = -80.0"
   ]
  },
  {
   "cell_type": "code",
   "execution_count": 15,
   "metadata": {
    "collapsed": true
   },
   "outputs": [],
   "source": [
    "del spectrograms"
   ]
  },
  {
   "cell_type": "code",
   "execution_count": 16,
   "metadata": {},
   "outputs": [
    {
     "name": "stderr",
     "output_type": "stream",
     "text": [
      "/anaconda2/envs/py35/lib/python3.5/site-packages/sklearn/cross_validation.py:44: DeprecationWarning: This module was deprecated in version 0.18 in favor of the model_selection module into which all the refactored classes and functions are moved. Also note that the interface of the new CV iterators are different from that of this module. This module will be removed in 0.20.\n",
      "  \"This module will be removed in 0.20.\", DeprecationWarning)\n"
     ]
    }
   ],
   "source": [
    "from sklearn.cross_validation import train_test_split\n",
    "MUP_X_train,MUP_X_test,MUP_y_train,MUP_y_test = train_test_split(spec_tensor/80.,MUP_answ_tensor,train_size=50000)"
   ]
  },
  {
   "cell_type": "code",
   "execution_count": 17,
   "metadata": {
    "collapsed": true
   },
   "outputs": [],
   "source": [
    "from sklearn.cross_validation import train_test_split\n",
    "MDOWN_X_train,MDOWN_X_test,MDOWN_y_train,MDOWN_y_test = train_test_split(spec_tensor/80.,MDOWN_answ_tensor,train_size=50000)"
   ]
  },
  {
   "cell_type": "code",
   "execution_count": 18,
   "metadata": {
    "collapsed": true
   },
   "outputs": [],
   "source": [
    "MUP_input_X, MUP_target_y = T.tensor3(\"X\", dtype='float32'), T.tensor3(\"y\", dtype='int32')\n",
    "\n",
    "MDOWN_input_X, MDOWN_target_y = T.tensor3(\"X\", dtype='float32'), T.tensor3(\"y\", dtype='int32')"
   ]
  },
  {
   "cell_type": "code",
   "execution_count": 19,
   "metadata": {},
   "outputs": [
    {
     "name": "stdout",
     "output_type": "stream",
     "text": [
      "(None, 128, 77)\n",
      "(None, 64, 72)\n",
      "(None, 64, 24)\n",
      "(None, 64, 21)\n",
      "(None, 88, 21)\n"
     ]
    }
   ],
   "source": [
    "mup_nn = lasagne.layers.InputLayer(shape=(None, MUP_X_train.shape[1], MUP_X_train.shape[2]), input_var=MUP_input_X/80.) \n",
    "print(mup_nn.output_shape)\n",
    "mup_nn = lasagne.layers.Conv1DLayer(mup_nn, 64, 6)\n",
    "print(mup_nn.output_shape)\n",
    "mup_nn = lasagne.layers.MaxPool1DLayer(mup_nn, 3)\n",
    "print(mup_nn.output_shape)\n",
    "mup_nn = lasagne.layers.Conv1DLayer(mup_nn, 64, 4) \n",
    "print(mup_nn.output_shape)\n",
    "mup_nn = lasagne.layers.Conv1DLayer(mup_nn, 88, 1,nonlinearity=T.nnet.sigmoid)\n",
    "print(mup_nn.output_shape)\n",
    "\n",
    "\n",
    "assert mup_nn.output_shape[1:] == MUP_y_train.shape[1:],\"wrong output shape\""
   ]
  },
  {
   "cell_type": "code",
   "execution_count": 20,
   "metadata": {},
   "outputs": [
    {
     "name": "stdout",
     "output_type": "stream",
     "text": [
      "(None, 128, 77)\n",
      "(None, 64, 72)\n",
      "(None, 64, 24)\n",
      "(None, 64, 21)\n",
      "(None, 88, 21)\n"
     ]
    }
   ],
   "source": [
    "mdown_nn = lasagne.layers.InputLayer(shape=(None, MDOWN_X_train.shape[1], MDOWN_X_train.shape[2]), input_var=MDOWN_input_X/80.) \n",
    "print(mdown_nn.output_shape)\n",
    "mdown_nn = lasagne.layers.Conv1DLayer(mdown_nn, 64, 6)\n",
    "print(mdown_nn.output_shape)\n",
    "mdown_nn = lasagne.layers.MaxPool1DLayer(mdown_nn, 3)\n",
    "print(mdown_nn.output_shape)\n",
    "mdown_nn = lasagne.layers.Conv1DLayer(mdown_nn, 64, 4) \n",
    "print(mdown_nn.output_shape)\n",
    "mdown_nn = lasagne.layers.Conv1DLayer(mdown_nn, 88, 1,nonlinearity=T.nnet.sigmoid)\n",
    "print(mdown_nn.output_shape)\n",
    "\n",
    "\n",
    "assert mdown_nn.output_shape[1:] == MDOWN_y_train.shape[1:],\"wrong output shape\""
   ]
  },
  {
   "cell_type": "code",
   "execution_count": 21,
   "metadata": {
    "collapsed": true
   },
   "outputs": [],
   "source": [
    "MUP_y_pred  = lasagne.layers.get_output(mup_nn)\n",
    "MUP_loss = lasagne.objectives.binary_crossentropy(MUP_y_pred, MUP_target_y).mean()\n",
    "MUP_weights = lasagne.layers.get_all_params(mup_nn)\n",
    "MUP_updates_sgd = lasagne.updates.adam(MUP_loss, MUP_weights)\n",
    "\n",
    "MUP_train_fun = theano.function([MUP_input_X, MUP_target_y], MUP_loss, allow_input_downcast=True, updates=MUP_updates_sgd)\n",
    "MUP_test_fun = theano.function([MUP_input_X, MUP_target_y], MUP_loss, allow_input_downcast=True)\n",
    "\n",
    "MUP_predict_probas = theano.function([MUP_input_X],MUP_y_pred)"
   ]
  },
  {
   "cell_type": "code",
   "execution_count": 22,
   "metadata": {
    "collapsed": true
   },
   "outputs": [],
   "source": [
    "MDOWN_y_pred  = lasagne.layers.get_output(mdown_nn)\n",
    "MDOWN_loss = lasagne.objectives.binary_crossentropy(MDOWN_y_pred, MDOWN_target_y).mean()\n",
    "MDOWN_weights = lasagne.layers.get_all_params(mdown_nn)\n",
    "MDOWN_updates_sgd = lasagne.updates.adam(MDOWN_loss, MDOWN_weights)\n",
    "\n",
    "MDOWN_train_fun = theano.function([MDOWN_input_X, MDOWN_target_y], MDOWN_loss, allow_input_downcast=True, updates=MDOWN_updates_sgd)\n",
    "MDOWN_test_fun = theano.function([MDOWN_input_X, MDOWN_target_y], MDOWN_loss, allow_input_downcast=True)\n",
    "\n",
    "MDOWN_predict_probas = theano.function([MDOWN_input_X],MDOWN_y_pred)"
   ]
  },
  {
   "cell_type": "code",
   "execution_count": 23,
   "metadata": {},
   "outputs": [
    {
     "data": {
      "text/plain": [
       "1"
      ]
     },
     "execution_count": 23,
     "metadata": {},
     "output_type": "execute_result"
    }
   ],
   "source": [
    "1"
   ]
  },
  {
   "cell_type": "code",
   "execution_count": 24,
   "metadata": {},
   "outputs": [
    {
     "data": {
      "text/plain": [
       "<matplotlib.image.AxesImage at 0x7fb1ba4a1898>"
      ]
     },
     "execution_count": 24,
     "metadata": {},
     "output_type": "execute_result"
    },
    {
     "data": {
      "image/png": "[encoded data removed]",
      "text/plain": [
       "<matplotlib.figure.Figure at 0x7fb1dddf5630>"
      ]
     },
     "metadata": {},
     "output_type": "display_data"
    }
   ],
   "source": [
    "plt.imshow(MDOWN_y_train[13])"
   ]
  },
  {
   "cell_type": "code",
   "execution_count": null,
   "metadata": {},
   "outputs": [
    {
     "data": {
      "application/vnd.jupyter.widget-view+json": {
       "model_id": "eac32d5e86034bcd91bac93bdb9a7942"
      }
     },
     "metadata": {},
     "output_type": "display_data"
    },
    {
     "data": {
      "application/vnd.jupyter.widget-view+json": {
       "model_id": "a298ceed8145430986668e9298a01181"
      }
     },
     "metadata": {},
     "output_type": "display_data"
    },
    {
     "name": "stdout",
     "output_type": "stream",
     "text": [
      "\n",
      "MUP 0.001067007758486167\n"
     ]
    },
    {
     "data": {
      "application/vnd.jupyter.widget-view+json": {
       "model_id": "c55675720a7441b1820f64facddd9d51"
      }
     },
     "metadata": {},
     "output_type": "display_data"
    },
    {
     "name": "stdout",
     "output_type": "stream",
     "text": [
      "MDOWN 0.0007696762860626626\n"
     ]
    },
    {
     "data": {
      "application/vnd.jupyter.widget-view+json": {
       "model_id": "74b10ec550af4377a2112b74d0c4c6fc"
      }
     },
     "metadata": {},
     "output_type": "display_data"
    },
    {
     "name": "stdout",
     "output_type": "stream",
     "text": [
      "MUP 0.001066997066964397\n"
     ]
    },
    {
     "data": {
      "application/vnd.jupyter.widget-view+json": {
       "model_id": "794bc0c74eb44107bf5d03058144b458"
      }
     },
     "metadata": {},
     "output_type": "display_data"
    },
    {
     "name": "stdout",
     "output_type": "stream",
     "text": [
      "MDOWN 0.0008553364114600063\n"
     ]
    },
    {
     "data": {
      "application/vnd.jupyter.widget-view+json": {
       "model_id": "3c3dbf0f8da244e6bc68dcdfcbf6f6c7"
      }
     },
     "metadata": {},
     "output_type": "display_data"
    },
    {
     "name": "stdout",
     "output_type": "stream",
     "text": [
      "MUP 0.0010049962744571408\n"
     ]
    },
    {
     "data": {
      "application/vnd.jupyter.widget-view+json": {
       "model_id": "d71864c35da7485daa1cd0717a4a6ecc"
      }
     },
     "metadata": {},
     "output_type": "display_data"
    },
    {
     "name": "stdout",
     "output_type": "stream",
     "text": [
      "MDOWN 0.000800197496212693\n"
     ]
    },
    {
     "data": {
      "application/vnd.jupyter.widget-view+json": {
       "model_id": "99c1e73e578d4fe3aa5a6302cd726014"
      }
     },
     "metadata": {},
     "output_type": "display_data"
    },
    {
     "name": "stdout",
     "output_type": "stream",
     "text": [
      "MUP 0.0009866962845684205\n"
     ]
    },
    {
     "data": {
      "application/vnd.jupyter.widget-view+json": {
       "model_id": "ac2454e59aa540ce9aea55634fa81a54"
      }
     },
     "metadata": {},
     "output_type": "display_data"
    },
    {
     "name": "stdout",
     "output_type": "stream",
     "text": [
      "MDOWN 0.0008544542465085709\n"
     ]
    },
    {
     "data": {
      "application/vnd.jupyter.widget-view+json": {
       "model_id": "bc8a0cafc3734827b978c3cc11dc87a5"
      }
     },
     "metadata": {},
     "output_type": "display_data"
    },
    {
     "name": "stdout",
     "output_type": "stream",
     "text": [
      "MUP 0.0009510311119005075\n"
     ]
    },
    {
     "data": {
      "application/vnd.jupyter.widget-view+json": {
       "model_id": "93325899b63a40609905a83341395e7a"
      }
     },
     "metadata": {},
     "output_type": "display_data"
    },
    {
     "name": "stdout",
     "output_type": "stream",
     "text": [
      "MDOWN 0.0008073117277201637\n"
     ]
    },
    {
     "data": {
      "application/vnd.jupyter.widget-view+json": {
       "model_id": "ec1717c2a6864e50b6739c07fd9d854b"
      }
     },
     "metadata": {},
     "output_type": "display_data"
    },
    {
     "name": "stdout",
     "output_type": "stream",
     "text": [
      "MUP 0.000959270562143324\n"
     ]
    },
    {
     "data": {
      "application/vnd.jupyter.widget-view+json": {
       "model_id": "6f811474059d40b896af15b6b88a5200"
      }
     },
     "metadata": {},
     "output_type": "display_data"
    }
   ],
   "source": [
    "batch_size = 15\n",
    "epochs = 100\n",
    "n_examples = MUP_X_train.shape[0]\n",
    "n_batches = n_examples // batch_size\n",
    "\n",
    "from tqdm import tnrange\n",
    "for epoch in tnrange(epochs):\n",
    "    for batch in tnrange(n_batches):\n",
    "        MUP_x_batch = MUP_X_train[batch*batch_size: (batch+1) * batch_size]\n",
    "        MUP_y_batch = MUP_y_train[batch*batch_size: (batch+1) * batch_size]\n",
    "        MUP_loss = MUP_train_fun(MUP_x_batch,MUP_y_batch)\n",
    "    print(\"MUP\", MUP_loss)\n",
    "    for batch in tnrange(n_batches):\n",
    "        MDOWN_x_batch = MDOWN_X_train[batch*batch_size: (batch+1) * batch_size]\n",
    "        MDOWN_y_batch = MDOWN_y_train[batch*batch_size: (batch+1) * batch_size]\n",
    "        MDOWN_loss = MDOWN_train_fun(MDOWN_x_batch,MDOWN_y_batch)\n",
    "    print(\"MDOWN\", MDOWN_loss)"
   ]
  },
  {
   "cell_type": "code",
   "execution_count": 36,
   "metadata": {},
   "outputs": [
    {
     "data": {
      "text/plain": [
       "array(0.0010119660851612882)"
      ]
     },
     "execution_count": 36,
     "metadata": {},
     "output_type": "execute_result"
    }
   ],
   "source": [
    "MDOWN_test_fun(MDOWN_X_test[:30], MDOWN_y_test[:30])"
   ]
  },
  {
   "cell_type": "code",
   "execution_count": 31,
   "metadata": {},
   "outputs": [
    {
     "data": {
      "text/plain": [
       "<matplotlib.image.AxesImage at 0x7fb1ba0005f8>"
      ]
     },
     "execution_count": 31,
     "metadata": {},
     "output_type": "execute_result"
    },
    {
     "data": {
      "image/png": "[encoded data removed]",
      "text/plain": [
       "<matplotlib.figure.Figure at 0x7fb1ba0a4c50>"
      ]
     },
     "metadata": {},
     "output_type": "display_data"
    }
   ],
   "source": [
    "b = 3424\n",
    "plt.subplot(1, 2, 1)\n",
    "plt.imshow(MUP_y_test[b])\n",
    "plt.subplot(1, 2, 2)\n",
    "plt.imshow(MUP_predict_probas(MUP_X_test[b:b+1])[0])"
   ]
  },
  {
   "cell_type": "code",
   "execution_count": null,
   "metadata": {
    "collapsed": true
   },
   "outputs": [],
   "source": [
    "1"
   ]
  },
  {
   "cell_type": "code",
   "execution_count": 37,
   "metadata": {
    "collapsed": true
   },
   "outputs": [],
   "source": [
    "import pickle\n",
    "pickle.dump(lasagne.layers.get_all_param_values(mup_nn), open('mup_nn', 'wb'),protocol=pickle.HIGHEST_PROTOCOL)"
   ]
  },
  {
   "cell_type": "code",
   "execution_count": null,
   "metadata": {
    "collapsed": true
   },
   "outputs": [],
   "source": [
    "1"
   ]
  },
  {
   "cell_type": "code",
   "execution_count": null,
   "metadata": {
    "collapsed": true
   },
   "outputs": [],
   "source": []
  }
 ],
 "metadata": {
  "kernelspec": {
   "display_name": "Python [conda env:py35]",
   "language": "python",
   "name": "conda-env-py35-py"
  },
  "language_info": {
   "codemirror_mode": {
    "name": "ipython",
    "version": 3
   },
   "file_extension": ".py",
   "mimetype": "text/x-python",
   "name": "python",
   "nbconvert_exporter": "python",
   "pygments_lexer": "ipython3",
   "version": "3.5.3"
  }
 },
 "nbformat": 4,
 "nbformat_minor": 2
}
