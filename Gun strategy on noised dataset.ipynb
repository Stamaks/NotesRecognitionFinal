{
 "cells": [
  {
   "cell_type": "code",
   "execution_count": 1,
   "metadata": {
    "collapsed": false
   },
   "outputs": [],
   "source": [
    "import matplotlib.pyplot as plt\n",
    "%matplotlib inline\n",
    "import numpy as np\n",
    "import theano, theano.tensor as T\n",
    "theano.config.floatX='float32'\n",
    "import lasagne, lasagne.layers as L\n",
    "import os\n",
    "from librosa import load, logamplitude\n",
    "from librosa.feature import melspectrogram\n",
    "from tqdm import tqdm_notebook\n",
    "from multiprocessing import Pool\n",
    "import pickle\n",
    "from scipy.io.wavfile import read, write"
   ]
  },
  {
   "cell_type": "code",
   "execution_count": 2,
   "metadata": {
    "collapsed": false
   },
   "outputs": [],
   "source": [
    "midi_one_clear = pickle.load(open(\"./DATA/s1mc/d\", \"rb\"))\n",
    "midi_one_clear_names = [midi_one_clear[i][0] for i in range(len(midi_one_clear))]\n",
    "midi_one_clear_specs = np.asarray([midi_one_clear[i][1][:, :174] for i in range(len(midi_one_clear))])\n",
    "\n",
    "midi_one_noised = pickle.load(open(\"./DATA/s1mn/d\", \"rb\"))\n",
    "midi_one_noised_names = [midi_one_noised[i][0] for i in range(len(midi_one_noised))]\n",
    "midi_one_noised_specs = np.asarray([midi_one_noised[i][1][:, :174] for i in range(len(midi_one_noised))])\n",
    "\n",
    "real_one_clear = pickle.load(open(\"./DATA/s1rc/d\", \"rb\"))\n",
    "real_one_clear_names = [real_one_clear[i][0] for i in range(len(real_one_clear))]\n",
    "real_one_clear_specs = np.asarray([real_one_clear[i][1][:, :174] for i in range(len(real_one_clear))])\n",
    "\n",
    "real_one_noised = pickle.load(open(\"./DATA/s1rn/d\", \"rb\"))\n",
    "real_one_noised_names = [real_one_noised[i][0] for i in range(len(real_one_noised))]\n",
    "real_one_noised_specs = np.asarray([real_one_noised[i][1][:, :174]for i in range(len(real_one_noised))])\n",
    "\n",
    "real_one_clear_2 = pickle.load(open(\"./DATA/s1rc2/d\", \"rb\"))\n",
    "real_one_clear_names_2 = [real_one_clear_2[i][0] for i in range(len(real_one_clear_2))]\n",
    "real_one_clear_specs_2 = np.asarray([real_one_clear_2[i][1][:, :174] for i in range(len(real_one_clear_2))])\n",
    "\n",
    "signal_one_clear = pickle.load(open(\"./DATA/s1sc/d\", \"rb\"))\n",
    "signal_one_clear_names = [signal_one_clear[i][0] for i in range(len(signal_one_clear))]\n",
    "signal_one_clear_specs = np.asarray([signal_one_clear[i][1][:, :174] for i in range(len(signal_one_clear))])"
   ]
  },
  {
   "cell_type": "code",
   "execution_count": 3,
   "metadata": {
    "collapsed": false
   },
   "outputs": [],
   "source": [
    "# for i in tqdm_notebook(os.listdir(\"./DATA/snmc/\")):\n",
    "#     spec = pickle.load(open(\"./DATA/snmc/\" + i, \"rb\"))\n",
    "#     specs = np.asarray([spec[i][1][:, :44] for i in range(len(spec))])\n",
    "#     specs = np.asarray([np.concatenate((specs[i], specs[i], specs[i], specs[i]), axis = 1)[:, :174] \n",
    "#                     for i in range(len(specs))])\n",
    "    \n",
    "#     spec_names = [spec[i][0] for i in range(len(spec))]\n",
    "#     spec_names = [i.split(\"|\")[0] for i in spec_names]\n",
    "#     spec_answ = []\n",
    "#     for i in range(len(spec_names)):\n",
    "#         o = np.zeros(88)\n",
    "#         notes = spec_names[i][:-4].split(\",\")\n",
    "#         for i in notes:\n",
    "#             o[int(i) - 21] = 1\n",
    "#         spec_answ.append(o)"
   ]
  },
  {
   "cell_type": "code",
   "execution_count": 4,
   "metadata": {
    "collapsed": false
   },
   "outputs": [],
   "source": [
    "midi_one_clear_answ = []\n",
    "for i in range(len(midi_one_clear_names)):\n",
    "    o = np.zeros(88)\n",
    "    o[int(midi_one_clear_names[i][:-4]) - 1] = 1\n",
    "    midi_one_clear_answ.append(o)\n",
    "    \n",
    "midi_one_noised_answ = []\n",
    "for i in range(len(midi_one_noised_names)):\n",
    "    o = np.zeros(88)\n",
    "    o[int(midi_one_noised_names[i][:-4]) - 1] = 1\n",
    "    midi_one_noised_answ.append(o)\n",
    "    \n",
    "real_one_clear_answ = []\n",
    "for i in range(len(real_one_clear_names)):\n",
    "    o = np.zeros(88)\n",
    "    o[int(real_one_clear_names[i][:-4]) - 1] = 1\n",
    "    real_one_clear_answ.append(o)\n",
    "    \n",
    "real_one_noised_answ = []\n",
    "for i in range(len(real_one_noised_names)):\n",
    "    o = np.zeros(88)\n",
    "    o[int(real_one_noised_names[i][:-4]) - 1] = 1\n",
    "    real_one_noised_answ.append(o)\n",
    "    \n",
    "real_one_clear_answ_2 = []\n",
    "for i in range(len(real_one_clear_names_2)):\n",
    "    o = np.zeros(88)\n",
    "    o[int(real_one_clear_names_2[i][:-4]) - 1] = 1\n",
    "    real_one_clear_answ_2.append(o)\n",
    "    \n",
    "signal_one_clear_answ = []\n",
    "for i in range(len(signal_one_clear_names)):\n",
    "    o = np.zeros(88)\n",
    "    o[int(signal_one_clear_names[i][:-4]) - 1] = 1\n",
    "    signal_one_clear_answ.append(o)"
   ]
  },
  {
   "cell_type": "code",
   "execution_count": 5,
   "metadata": {
    "collapsed": false
   },
   "outputs": [],
   "source": [
    "X_train = np.concatenate((midi_one_clear_specs, midi_one_noised_specs, real_one_clear_specs, real_one_noised_specs, \n",
    "                          signal_one_clear_specs))\n",
    "y_train = np.concatenate((midi_one_clear_answ, midi_one_noised_answ, real_one_clear_answ, real_one_noised_answ, \n",
    "                          signal_one_clear_answ))"
   ]
  },
  {
   "cell_type": "code",
   "execution_count": 30,
   "metadata": {
    "collapsed": true
   },
   "outputs": [],
   "source": [
    "X_input_conv_r = T.tensor4(\"Input X (for conv_r)\")\n",
    "y_target_conv_r = T.matrix(\"Target y (for conv_r)\", dtype='int32')\n",
    "\n",
    "X_input_conv_f = T.tensor4(\"Input X (for conv_f)\")\n",
    "y_target_conv_f = T.vector(\"Target y (for conv_f)\", dtype='int32')\n",
    "\n",
    "disc_input = T.matrix(\"Disc input\")"
   ]
  },
  {
   "cell_type": "code",
   "execution_count": 31,
   "metadata": {
    "collapsed": false
   },
   "outputs": [
    {
     "name": "stdout",
     "output_type": "stream",
     "text": [
      "(None, 1, 150, 174)\n",
      "(None, 20, 148, 172)\n",
      "(None, 20, 148, 172)\n",
      "(None, 20, 74, 86)\n",
      "(None, 20, 72, 84)\n",
      "(None, 20, 72, 84)\n",
      "(None, 20, 36, 42)\n",
      "(None, 200)\n",
      "(None, 200)\n",
      "(None, 88)\n"
     ]
    }
   ],
   "source": [
    "conv_r = L.InputLayer((None, 1) + X_train.shape[1:])\n",
    "print(conv_r.output_shape)\n",
    "conv_r2 = L.Conv2DLayer(conv_r, 20, 3)\n",
    "print(conv_r2.output_shape)\n",
    "conv = L.BatchNormLayer(conv_r2)\n",
    "print(conv.output_shape)\n",
    "conv_r3 = L.Pool2DLayer(conv, 2)\n",
    "print(conv_r3.output_shape)\n",
    "conv_r4 = L.Conv2DLayer(conv_r3, 20, 3)\n",
    "print(conv_r4.output_shape)\n",
    "conv = L.BatchNormLayer(conv_r4)\n",
    "print(conv.output_shape)\n",
    "conv_r5 = L.Pool2DLayer(conv, 2)\n",
    "print(conv_r5.output_shape)\n",
    "conv_r_dense = L.DenseLayer(conv_r5, 200)\n",
    "print(conv_r_dense.output_shape)\n",
    "conv = L.DropoutLayer(conv_r_dense, p=0.1)\n",
    "print(conv.output_shape)\n",
    "conv_r6 = L.DenseLayer(conv, 88, nonlinearity=T.nnet.sigmoid)\n",
    "print(conv_r6.output_shape)"
   ]
  },
  {
   "cell_type": "code",
   "execution_count": 32,
   "metadata": {
    "collapsed": false
   },
   "outputs": [
    {
     "name": "stdout",
     "output_type": "stream",
     "text": [
      "(None, 200)\n",
      "(None, 100)\n",
      "(None, 50)\n",
      "(None, 1)\n"
     ]
    }
   ],
   "source": [
    "disc = L.InputLayer(conv_r_dense.output_shape)\n",
    "print(disc.output_shape)\n",
    "disc = L.DenseLayer(disc, 100, nonlinearity=T.nnet.elu)\n",
    "print(disc.output_shape)\n",
    "# disc = L.DropoutLayer(disc, p=0.1)\n",
    "disc = L.DenseLayer(disc, 50, nonlinearity=T.nnet.elu)\n",
    "print(disc.output_shape)\n",
    "disc = L.DenseLayer(disc, 1, nonlinearity=T.nnet.sigmoid)\n",
    "print(disc.output_shape)"
   ]
  },
  {
   "cell_type": "code",
   "execution_count": 33,
   "metadata": {
    "collapsed": true
   },
   "outputs": [],
   "source": [
    "y_predicted_conv_r = lasagne.layers.get_output(conv_r6, X_input_conv_r)\n",
    "y_predicted_conv_r_det = lasagne.layers.get_output(conv_r6, X_input_conv_r, deterministic=True)\n",
    "\n",
    "y_predicted_conv_f_dense = lasagne.layers.get_output(conv_r_dense, X_input_conv_f)\n",
    "y_predicted_disc = lasagne.layers.get_output(disc, y_predicted_conv_f_dense)\n",
    "y_predicted_conv_f_dense_det = lasagne.layers.get_output(conv_r_dense, X_input_conv_f, deterministic=True)\n",
    "y_predicted_disc_det = lasagne.layers.get_output(disc, y_predicted_conv_f_dense, deterministic=True)"
   ]
  },
  {
   "cell_type": "code",
   "execution_count": 34,
   "metadata": {
    "collapsed": false
   },
   "outputs": [],
   "source": [
    "# loss for discriminator: P(real | x real) -> 1, P(real | x fake) -> 0\n",
    "disc_loss = lasagne.objectives.binary_crossentropy(y_predicted_disc, y_target_conv_f).mean()\n",
    "\n",
    "# loss for generator: increase P(real | x fake) and  decrease P(real | x real) OVER GENERATOR PARAMS\n",
    "adv_loss = lasagne.objectives.binary_crossentropy(y_predicted_disc, 1-y_target_conv_f).mean()\n",
    "\n",
    "conv_r_loss_dense = lasagne.objectives.binary_crossentropy(y_predicted_conv_r, y_target_conv_r).mean()\n",
    "conv_r_loss_last = conv_r_loss_dense + adv_loss*0.005"
   ]
  },
  {
   "cell_type": "code",
   "execution_count": 35,
   "metadata": {
    "collapsed": true
   },
   "outputs": [],
   "source": [
    "disc_acc = lasagne.objectives.binary_accuracy(y_predicted_disc_det, y_target_conv_f).mean()\n",
    "conv_r_acc = lasagne.objectives.categorical_accuracy(y_predicted_conv_r_det, y_target_conv_r).mean()"
   ]
  },
  {
   "cell_type": "code",
   "execution_count": 36,
   "metadata": {
    "collapsed": false
   },
   "outputs": [],
   "source": [
    "disc_weights = lasagne.layers.get_all_params(disc, trainable=True)\n",
    "disc_updates_adam = lasagne.updates.adam(disc_loss, disc_weights)\n",
    "\n",
    "conv_r_last_weights = lasagne.layers.get_all_params(conv_r6, trainable=True)\n",
    "conv_r_last_updates_adam = lasagne.updates.adam(conv_r_loss_last, conv_r_last_weights)"
   ]
  },
  {
   "cell_type": "code",
   "execution_count": 37,
   "metadata": {
    "collapsed": false
   },
   "outputs": [
    {
     "name": "stderr",
     "output_type": "stream",
     "text": [
      "WARNING (theano.gof.compilelock): Overriding existing lock by dead process '27988' (I am process '31476')\n"
     ]
    }
   ],
   "source": [
    "train_r = theano.function([X_input_conv_r, y_target_conv_r, X_input_conv_f, y_target_conv_f], \n",
    "                          [conv_r_loss_dense, adv_loss], updates=conv_r_last_updates_adam, allow_input_downcast=True)"
   ]
  },
  {
   "cell_type": "code",
   "execution_count": 38,
   "metadata": {
    "collapsed": false
   },
   "outputs": [],
   "source": [
    "train_f = theano.function([X_input_conv_f, y_target_conv_f], disc_loss, updates=disc_updates_adam, allow_input_downcast=True)   "
   ]
  },
  {
   "cell_type": "code",
   "execution_count": 39,
   "metadata": {
    "collapsed": true
   },
   "outputs": [],
   "source": [
    "eval_disc = theano.function([X_input_conv_f, y_target_conv_f], disc_acc, allow_input_downcast=True)"
   ]
  },
  {
   "cell_type": "code",
   "execution_count": 40,
   "metadata": {
    "collapsed": true
   },
   "outputs": [],
   "source": [
    "eval_conv_r = theano.function([X_input_conv_r, y_target_conv_r], conv_r_acc, allow_input_downcast=True)"
   ]
  },
  {
   "cell_type": "code",
   "execution_count": 41,
   "metadata": {
    "collapsed": true
   },
   "outputs": [],
   "source": [
    "from tqdm import trange\n",
    "def iterate_minibatches(inputs, targets, batchsize, shuffle=False):\n",
    "    assert len(inputs) == len(targets)\n",
    "    if shuffle:\n",
    "        indices = np.random.permutation(len(inputs))\n",
    "    for start_idx in trange(0, len(inputs) - batchsize + 1, batchsize):\n",
    "        if shuffle:\n",
    "            excerpt = indices[start_idx:start_idx + batchsize]\n",
    "        else:\n",
    "            excerpt = slice(start_idx, start_idx + batchsize)\n",
    "        yield inputs[excerpt], targets[excerpt]"
   ]
  },
  {
   "cell_type": "code",
   "execution_count": 42,
   "metadata": {
    "collapsed": false
   },
   "outputs": [
    {
     "data": {
      "text/plain": [
       "[array(1.194109728581944), array(0.8788957864046096)]"
      ]
     },
     "execution_count": 42,
     "metadata": {},
     "output_type": "execute_result"
    }
   ],
   "source": [
    "train_r(X_train[:10,None], y_train[:10], X_train[:10,None], np.zeros(len(X_train))[:10])"
   ]
  },
  {
   "cell_type": "code",
   "execution_count": 43,
   "metadata": {
    "collapsed": false
   },
   "outputs": [
    {
     "name": "stdout",
     "output_type": "stream",
     "text": [
      "Disc accuracy: 1.0\n",
      "Conv accuracy: 0.1\n"
     ]
    }
   ],
   "source": [
    "print(\"Disc accuracy:\", eval_disc(X_train[:10,None], np.zeros(10)))\n",
    "print(\"Conv accuracy:\", eval_conv_r(X_train[:10, None], y_train[:10]))"
   ]
  },
  {
   "cell_type": "code",
   "execution_count": 44,
   "metadata": {
    "collapsed": true
   },
   "outputs": [],
   "source": [
    "specs_midi_clear_names = os.listdir(\"./DATA/snmc/\")\n",
    "specs_midi_noised_names = os.listdir(\"./DATA/snmn/\")"
   ]
  },
  {
   "cell_type": "code",
   "execution_count": 45,
   "metadata": {
    "collapsed": true
   },
   "outputs": [],
   "source": [
    "def get_data(x):\n",
    "    data = pickle.load(open(x, \"rb\"))\n",
    "    names = [data[i][0] for i in range(len(data))]\n",
    "    names = [i.split(\"|\")[0] for i in names]\n",
    "    specs = np.asarray([data[i][1][:, :44] for i in range(len(data))])\n",
    "    specs = np.asarray([np.concatenate((specs[i], specs[i], specs[i], specs[i]), axis = 1)[:, :174] \n",
    "                    for i in range(len(specs))])\n",
    "    \n",
    "    answ = []\n",
    "    for i in range(len(names)):\n",
    "        o = np.zeros(88)\n",
    "        for i in names[i][:-4].split(\",\"):\n",
    "            o[int(i) - 21] = 1\n",
    "        answ.append(o)\n",
    "    return specs, answ"
   ]
  },
  {
   "cell_type": "code",
   "execution_count": 46,
   "metadata": {
    "collapsed": true
   },
   "outputs": [],
   "source": [
    "disc_accs = []\n",
    "conv_accs = []\n",
    "neg_conv_accs = []"
   ]
  },
  {
   "cell_type": "code",
   "execution_count": 47,
   "metadata": {
    "collapsed": true
   },
   "outputs": [],
   "source": [
    "test_noised_spec, test_noised_answ = get_data(\"./test_noised\")"
   ]
  },
  {
   "cell_type": "code",
   "execution_count": null,
   "metadata": {
    "collapsed": true
   },
   "outputs": [],
   "source": []
  },
  {
   "cell_type": "code",
   "execution_count": 48,
   "metadata": {
    "collapsed": true
   },
   "outputs": [],
   "source": [
    "test_clear_spec, test_clear_answ = get_data(\"./test_clear\")"
   ]
  },
  {
   "cell_type": "code",
   "execution_count": 49,
   "metadata": {
    "collapsed": false
   },
   "outputs": [
    {
     "name": "stderr",
     "output_type": "stream",
     "text": [
      "Widget Javascript not detected.  It may not be installed properly. Did you enable the widgetsnbextension? If not, then run \"jupyter nbextension enable --py --sys-prefix widgetsnbextension\"\n",
      "\n",
      "  0%|          | 0/13 [00:00<?, ?it/s]\u001b[A\n",
      "Exception in thread Thread-34:\n",
      "Traceback (most recent call last):\n",
      "  File \"/home/alena/anaconda3/lib/python3.5/threading.py\", line 914, in _bootstrap_inner\n",
      "    self.run()\n",
      "  File \"/home/alena/anaconda3/lib/python3.5/site-packages/tqdm/_tqdm.py\", line 102, in run\n",
      "    for instance in self.tqdm_cls._instances:\n",
      "  File \"/home/alena/anaconda3/lib/python3.5/_weakrefset.py\", line 60, in __iter__\n",
      "    for itemref in self.data:\n",
      "RuntimeError: Set changed size during iteration\n",
      "\n",
      "100%|██████████| 13/13 [01:21<00:00,  6.34s/it]\n"
     ]
    },
    {
     "name": "stdout",
     "output_type": "stream",
     "text": [
      "Epoch 0\n",
      "Disc accuracy: 0.0\n",
      "Conv accuracy: 0.0\n",
      "Negative accuracy: 0.0\n"
     ]
    },
    {
     "name": "stderr",
     "output_type": "stream",
     "text": [
      "100%|██████████| 13/13 [01:16<00:00,  6.29s/it]      | 1/13 [00:09<01:55,  9.60s/it]\n"
     ]
    },
    {
     "name": "stdout",
     "output_type": "stream",
     "text": [
      "Epoch 1\n",
      "Disc accuracy: 0.07692307692307693\n",
      "Conv accuracy: 0.07692307692307693\n",
      "Negative accuracy: 0.07692307692307693\n"
     ]
    },
    {
     "name": "stderr",
     "output_type": "stream",
     "text": [
      "100%|██████████| 13/13 [01:15<00:00,  6.30s/it]      | 1/13 [00:09<01:56,  9.72s/it]\n"
     ]
    },
    {
     "name": "stdout",
     "output_type": "stream",
     "text": [
      "Epoch 2\n",
      "Disc accuracy: 0.38461538461538464\n",
      "Conv accuracy: 0.07692307692307693\n",
      "Negative accuracy: 0.0\n"
     ]
    },
    {
     "name": "stderr",
     "output_type": "stream",
     "text": [
      "100%|██████████| 13/13 [01:15<00:00,  6.15s/it]      | 1/13 [00:09<01:54,  9.55s/it]\n"
     ]
    },
    {
     "name": "stdout",
     "output_type": "stream",
     "text": [
      "Epoch 3\n",
      "Disc accuracy: 0.07692307692307693\n",
      "Conv accuracy: 0.3076923076923077\n",
      "Negative accuracy: 0.15384615384615385\n"
     ]
    },
    {
     "name": "stderr",
     "output_type": "stream",
     "text": [
      "100%|██████████| 13/13 [01:14<00:00,  6.12s/it]      | 1/13 [00:09<01:52,  9.37s/it]\n"
     ]
    },
    {
     "name": "stdout",
     "output_type": "stream",
     "text": [
      "Epoch 4\n",
      "Disc accuracy: 0.5384615384615384\n",
      "Conv accuracy: 0.3076923076923077\n",
      "Negative accuracy: 0.15384615384615385\n"
     ]
    },
    {
     "name": "stderr",
     "output_type": "stream",
     "text": [
      "100%|██████████| 13/13 [01:17<00:00,  6.64s/it]      | 1/13 [00:09<01:53,  9.46s/it]\n"
     ]
    },
    {
     "name": "stdout",
     "output_type": "stream",
     "text": [
      "Epoch 5\n",
      "Disc accuracy: 0.23076923076923078\n",
      "Conv accuracy: 0.15384615384615385\n",
      "Negative accuracy: 0.07692307692307693\n"
     ]
    },
    {
     "name": "stderr",
     "output_type": "stream",
     "text": [
      "100%|██████████| 13/13 [01:14<00:00,  6.09s/it]      | 1/13 [00:09<01:53,  9.43s/it]\n"
     ]
    },
    {
     "name": "stdout",
     "output_type": "stream",
     "text": [
      "Epoch 6\n",
      "Disc accuracy: 0.23076923076923078\n",
      "Conv accuracy: 0.23076923076923078\n",
      "Negative accuracy: 0.15384615384615385\n"
     ]
    },
    {
     "name": "stderr",
     "output_type": "stream",
     "text": [
      "100%|██████████| 13/13 [01:13<00:00,  6.09s/it]      | 1/13 [00:09<01:52,  9.37s/it]\n"
     ]
    },
    {
     "name": "stdout",
     "output_type": "stream",
     "text": [
      "Epoch 7\n",
      "Disc accuracy: 0.07692307692307693\n",
      "Conv accuracy: 0.38461538461538464\n",
      "Negative accuracy: 0.07692307692307693\n"
     ]
    },
    {
     "name": "stderr",
     "output_type": "stream",
     "text": [
      "100%|██████████| 13/13 [01:13<00:00,  6.12s/it]      | 1/13 [00:09<01:51,  9.29s/it]\n"
     ]
    },
    {
     "name": "stdout",
     "output_type": "stream",
     "text": [
      "Epoch 8\n",
      "Disc accuracy: 0.3076923076923077\n",
      "Conv accuracy: 0.3076923076923077\n",
      "Negative accuracy: 0.07692307692307693\n"
     ]
    },
    {
     "name": "stderr",
     "output_type": "stream",
     "text": [
      "100%|██████████| 13/13 [01:13<00:00,  6.10s/it]      | 1/13 [00:09<01:55,  9.64s/it]\n"
     ]
    },
    {
     "name": "stdout",
     "output_type": "stream",
     "text": [
      "Epoch 9\n",
      "Disc accuracy: 0.6153846153846154\n",
      "Conv accuracy: 0.38461538461538464\n",
      "Negative accuracy: 0.3076923076923077\n"
     ]
    },
    {
     "name": "stderr",
     "output_type": "stream",
     "text": [
      "100%|██████████| 13/13 [01:14<00:00,  6.16s/it]      | 1/13 [00:09<01:52,  9.38s/it]\n"
     ]
    },
    {
     "name": "stdout",
     "output_type": "stream",
     "text": [
      "Epoch 10\n",
      "Disc accuracy: 0.6923076923076923\n",
      "Conv accuracy: 0.3076923076923077\n",
      "Negative accuracy: 0.23076923076923078\n"
     ]
    },
    {
     "name": "stderr",
     "output_type": "stream",
     "text": [
      "100%|██████████| 13/13 [01:14<00:00,  6.28s/it]      | 1/13 [00:09<01:52,  9.40s/it]\n"
     ]
    },
    {
     "name": "stdout",
     "output_type": "stream",
     "text": [
      "Epoch 11\n",
      "Disc accuracy: 0.7692307692307693\n",
      "Conv accuracy: 0.3076923076923077\n",
      "Negative accuracy: 0.07692307692307693\n"
     ]
    },
    {
     "name": "stderr",
     "output_type": "stream",
     "text": [
      "100%|██████████| 13/13 [01:16<00:00,  6.17s/it]      | 1/13 [00:10<02:04, 10.35s/it]\n"
     ]
    },
    {
     "name": "stdout",
     "output_type": "stream",
     "text": [
      "Epoch 12\n",
      "Disc accuracy: 0.8461538461538461\n",
      "Conv accuracy: 0.3076923076923077\n",
      "Negative accuracy: 0.0\n"
     ]
    },
    {
     "name": "stderr",
     "output_type": "stream",
     "text": [
      "100%|██████████| 13/13 [01:15<00:00,  6.26s/it]      | 1/13 [00:10<02:03, 10.33s/it]\n"
     ]
    },
    {
     "name": "stdout",
     "output_type": "stream",
     "text": [
      "Epoch 13\n",
      "Disc accuracy: 0.8461538461538461\n",
      "Conv accuracy: 0.3076923076923077\n",
      "Negative accuracy: 0.15384615384615385\n"
     ]
    },
    {
     "name": "stderr",
     "output_type": "stream",
     "text": [
      "100%|██████████| 13/13 [01:13<00:00,  6.06s/it]      | 1/13 [00:09<01:59,  9.94s/it]\n"
     ]
    },
    {
     "name": "stdout",
     "output_type": "stream",
     "text": [
      "Epoch 14\n",
      "Disc accuracy: 0.9230769230769231\n",
      "Conv accuracy: 0.46153846153846156\n",
      "Negative accuracy: 0.07692307692307693\n"
     ]
    },
    {
     "name": "stderr",
     "output_type": "stream",
     "text": [
      "100%|██████████| 13/13 [01:12<00:00,  5.99s/it]      | 1/13 [00:09<01:51,  9.32s/it]\n"
     ]
    },
    {
     "name": "stdout",
     "output_type": "stream",
     "text": [
      "Epoch 15\n",
      "Disc accuracy: 0.8461538461538461\n",
      "Conv accuracy: 0.46153846153846156\n",
      "Negative accuracy: 0.07692307692307693\n"
     ]
    },
    {
     "name": "stderr",
     "output_type": "stream",
     "text": [
      "100%|██████████| 13/13 [01:11<00:00,  5.94s/it]      | 1/13 [00:09<01:50,  9.23s/it]\n"
     ]
    },
    {
     "name": "stdout",
     "output_type": "stream",
     "text": [
      "Epoch 16\n",
      "Disc accuracy: 0.9230769230769231\n",
      "Conv accuracy: 0.23076923076923078\n",
      "Negative accuracy: 0.0\n"
     ]
    },
    {
     "name": "stderr",
     "output_type": "stream",
     "text": [
      "100%|██████████| 13/13 [01:12<00:00,  5.98s/it]      | 1/13 [00:09<01:50,  9.21s/it]\n"
     ]
    },
    {
     "name": "stdout",
     "output_type": "stream",
     "text": [
      "Epoch 17\n",
      "Disc accuracy: 0.9230769230769231\n",
      "Conv accuracy: 0.3076923076923077\n",
      "Negative accuracy: 0.15384615384615385\n"
     ]
    },
    {
     "name": "stderr",
     "output_type": "stream",
     "text": [
      "100%|██████████| 13/13 [01:12<00:00,  5.99s/it]      | 1/13 [00:09<01:52,  9.36s/it]\n"
     ]
    },
    {
     "name": "stdout",
     "output_type": "stream",
     "text": [
      "Epoch 18\n",
      "Disc accuracy: 0.9230769230769231\n",
      "Conv accuracy: 0.3076923076923077\n",
      "Negative accuracy: 0.15384615384615385\n"
     ]
    },
    {
     "name": "stderr",
     "output_type": "stream",
     "text": [
      "100%|██████████| 13/13 [01:11<00:00,  5.92s/it]      | 1/13 [00:09<01:49,  9.14s/it]\n"
     ]
    },
    {
     "name": "stdout",
     "output_type": "stream",
     "text": [
      "Epoch 19\n",
      "Disc accuracy: 0.7692307692307693\n",
      "Conv accuracy: 0.3076923076923077\n",
      "Negative accuracy: 0.07692307692307693\n"
     ]
    },
    {
     "name": "stderr",
     "output_type": "stream",
     "text": [
      "100%|██████████| 13/13 [01:12<00:00,  5.97s/it]      | 1/13 [00:09<01:49,  9.14s/it]\n"
     ]
    },
    {
     "name": "stdout",
     "output_type": "stream",
     "text": [
      "Epoch 20\n",
      "Disc accuracy: 0.6923076923076923\n",
      "Conv accuracy: 0.38461538461538464\n",
      "Negative accuracy: 0.07692307692307693\n"
     ]
    },
    {
     "name": "stderr",
     "output_type": "stream",
     "text": [
      "100%|██████████| 13/13 [01:11<00:00,  5.94s/it]      | 1/13 [00:09<01:49,  9.16s/it]\n"
     ]
    },
    {
     "name": "stdout",
     "output_type": "stream",
     "text": [
      "Epoch 21\n",
      "Disc accuracy: 0.6923076923076923\n",
      "Conv accuracy: 0.38461538461538464\n",
      "Negative accuracy: 0.07692307692307693\n"
     ]
    },
    {
     "name": "stderr",
     "output_type": "stream",
     "text": [
      "100%|██████████| 13/13 [01:12<00:00,  5.96s/it]      | 1/13 [00:09<01:50,  9.24s/it]\n"
     ]
    },
    {
     "name": "stdout",
     "output_type": "stream",
     "text": [
      "Epoch 22\n",
      "Disc accuracy: 0.7692307692307693\n",
      "Conv accuracy: 0.3076923076923077\n",
      "Negative accuracy: 0.0\n"
     ]
    },
    {
     "name": "stderr",
     "output_type": "stream",
     "text": [
      "100%|██████████| 13/13 [01:12<00:00,  6.09s/it]      | 1/13 [00:09<01:49,  9.15s/it]\n"
     ]
    },
    {
     "name": "stdout",
     "output_type": "stream",
     "text": [
      "Epoch 23\n",
      "Disc accuracy: 0.7692307692307693\n",
      "Conv accuracy: 0.38461538461538464\n",
      "Negative accuracy: 0.07692307692307693\n"
     ]
    },
    {
     "name": "stderr",
     "output_type": "stream",
     "text": [
      "100%|██████████| 13/13 [01:13<00:00,  6.09s/it]      | 1/13 [00:09<01:53,  9.49s/it]\n"
     ]
    },
    {
     "name": "stdout",
     "output_type": "stream",
     "text": [
      "Epoch 24\n",
      "Disc accuracy: 0.9230769230769231\n",
      "Conv accuracy: 0.38461538461538464\n",
      "Negative accuracy: 0.15384615384615385\n"
     ]
    },
    {
     "name": "stderr",
     "output_type": "stream",
     "text": [
      "100%|██████████| 13/13 [01:14<00:00,  6.23s/it]      | 1/13 [00:09<01:53,  9.43s/it]\n"
     ]
    },
    {
     "name": "stdout",
     "output_type": "stream",
     "text": [
      "Epoch 25\n",
      "Disc accuracy: 0.9230769230769231\n",
      "Conv accuracy: 0.38461538461538464\n",
      "Negative accuracy: 0.15384615384615385\n"
     ]
    },
    {
     "name": "stderr",
     "output_type": "stream",
     "text": [
      "100%|██████████| 13/13 [01:16<00:00,  6.30s/it]      | 1/13 [00:11<02:18, 11.54s/it]\n"
     ]
    },
    {
     "name": "stdout",
     "output_type": "stream",
     "text": [
      "Epoch 26\n",
      "Disc accuracy: 0.6923076923076923\n",
      "Conv accuracy: 0.38461538461538464\n",
      "Negative accuracy: 0.23076923076923078\n"
     ]
    },
    {
     "name": "stderr",
     "output_type": "stream",
     "text": [
      "100%|██████████| 13/13 [01:14<00:00,  6.20s/it]      | 1/13 [00:09<01:52,  9.34s/it]\n"
     ]
    },
    {
     "name": "stdout",
     "output_type": "stream",
     "text": [
      "Epoch 27\n",
      "Disc accuracy: 0.9230769230769231\n",
      "Conv accuracy: 0.46153846153846156\n",
      "Negative accuracy: 0.23076923076923078\n"
     ]
    },
    {
     "name": "stderr",
     "output_type": "stream",
     "text": [
      "100%|██████████| 13/13 [01:14<00:00,  6.09s/it]      | 1/13 [00:09<01:58,  9.85s/it]\n"
     ]
    },
    {
     "name": "stdout",
     "output_type": "stream",
     "text": [
      "Epoch 28\n",
      "Disc accuracy: 0.9230769230769231\n",
      "Conv accuracy: 0.5384615384615384\n",
      "Negative accuracy: 0.07692307692307693\n"
     ]
    },
    {
     "name": "stderr",
     "output_type": "stream",
     "text": [
      "100%|██████████| 13/13 [01:16<00:00,  6.12s/it]      | 1/13 [00:11<02:13, 11.17s/it]\n"
     ]
    },
    {
     "name": "stdout",
     "output_type": "stream",
     "text": [
      "Epoch 29\n",
      "Disc accuracy: 0.9230769230769231\n",
      "Conv accuracy: 0.38461538461538464\n",
      "Negative accuracy: 0.15384615384615385\n"
     ]
    },
    {
     "name": "stderr",
     "output_type": "stream",
     "text": [
      "100%|██████████| 13/13 [01:24<00:00,  6.43s/it]      | 1/13 [00:12<02:24, 12.06s/it]\n"
     ]
    },
    {
     "name": "stdout",
     "output_type": "stream",
     "text": [
      "Epoch 30\n",
      "Disc accuracy: 0.6923076923076923\n",
      "Conv accuracy: 0.38461538461538464\n",
      "Negative accuracy: 0.15384615384615385\n"
     ]
    },
    {
     "name": "stderr",
     "output_type": "stream",
     "text": [
      "100%|██████████| 13/13 [01:16<00:00,  6.47s/it]      | 1/13 [00:09<01:51,  9.27s/it]\n"
     ]
    },
    {
     "name": "stdout",
     "output_type": "stream",
     "text": [
      "Epoch 31\n",
      "Disc accuracy: 0.6153846153846154\n",
      "Conv accuracy: 0.46153846153846156\n",
      "Negative accuracy: 0.15384615384615385\n"
     ]
    },
    {
     "name": "stderr",
     "output_type": "stream",
     "text": [
      "100%|██████████| 13/13 [01:26<00:00,  7.72s/it]      | 1/13 [00:10<02:07, 10.65s/it]\n"
     ]
    },
    {
     "name": "stdout",
     "output_type": "stream",
     "text": [
      "Epoch 32\n",
      "Disc accuracy: 0.6153846153846154\n",
      "Conv accuracy: 0.46153846153846156\n",
      "Negative accuracy: 0.23076923076923078\n"
     ]
    },
    {
     "name": "stderr",
     "output_type": "stream",
     "text": [
      "100%|██████████| 13/13 [01:24<00:00,  7.20s/it]      | 1/13 [00:10<02:08, 10.68s/it]\n"
     ]
    },
    {
     "name": "stdout",
     "output_type": "stream",
     "text": [
      "Epoch 33\n",
      "Disc accuracy: 0.6153846153846154\n",
      "Conv accuracy: 0.38461538461538464\n",
      "Negative accuracy: 0.07692307692307693\n"
     ]
    },
    {
     "name": "stderr",
     "output_type": "stream",
     "text": [
      "100%|██████████| 13/13 [01:19<00:00,  6.28s/it]      | 1/13 [00:10<02:09, 10.76s/it]\n"
     ]
    },
    {
     "name": "stdout",
     "output_type": "stream",
     "text": [
      "Epoch 34\n",
      "Disc accuracy: 0.6923076923076923\n",
      "Conv accuracy: 0.46153846153846156\n",
      "Negative accuracy: 0.23076923076923078\n"
     ]
    },
    {
     "name": "stderr",
     "output_type": "stream",
     "text": [
      "100%|██████████| 13/13 [01:22<00:00,  6.52s/it]      | 1/13 [00:11<02:12, 11.01s/it]\n"
     ]
    },
    {
     "name": "stdout",
     "output_type": "stream",
     "text": [
      "Epoch 35\n",
      "Disc accuracy: 0.6923076923076923\n",
      "Conv accuracy: 0.46153846153846156\n",
      "Negative accuracy: 0.15384615384615385\n"
     ]
    },
    {
     "name": "stderr",
     "output_type": "stream",
     "text": [
      "100%|██████████| 13/13 [01:19<00:00,  6.11s/it]      | 1/13 [00:10<02:07, 10.62s/it]\n"
     ]
    },
    {
     "name": "stdout",
     "output_type": "stream",
     "text": [
      "Epoch 36\n",
      "Disc accuracy: 0.8461538461538461\n",
      "Conv accuracy: 0.38461538461538464\n",
      "Negative accuracy: 0.23076923076923078\n"
     ]
    },
    {
     "name": "stderr",
     "output_type": "stream",
     "text": [
      "100%|██████████| 13/13 [01:12<00:00,  5.99s/it]      | 1/13 [00:09<01:52,  9.39s/it]\n"
     ]
    },
    {
     "name": "stdout",
     "output_type": "stream",
     "text": [
      "Epoch 37\n",
      "Disc accuracy: 0.7692307692307693\n",
      "Conv accuracy: 0.38461538461538464\n",
      "Negative accuracy: 0.15384615384615385\n"
     ]
    },
    {
     "name": "stderr",
     "output_type": "stream",
     "text": [
      "100%|██████████| 13/13 [01:12<00:00,  5.98s/it]      | 1/13 [00:09<01:53,  9.48s/it]\n"
     ]
    },
    {
     "name": "stdout",
     "output_type": "stream",
     "text": [
      "Epoch 38\n",
      "Disc accuracy: 0.6923076923076923\n",
      "Conv accuracy: 0.5384615384615384\n",
      "Negative accuracy: 0.23076923076923078\n"
     ]
    },
    {
     "name": "stderr",
     "output_type": "stream",
     "text": [
      "100%|██████████| 13/13 [01:12<00:00,  5.97s/it]      | 1/13 [00:09<01:51,  9.30s/it]\n"
     ]
    },
    {
     "name": "stdout",
     "output_type": "stream",
     "text": [
      "Epoch 39\n",
      "Disc accuracy: 0.5384615384615384\n",
      "Conv accuracy: 0.23076923076923078\n",
      "Negative accuracy: 0.07692307692307693\n"
     ]
    },
    {
     "name": "stderr",
     "output_type": "stream",
     "text": [
      "100%|██████████| 13/13 [01:17<00:00,  7.16s/it]      | 1/13 [00:09<01:52,  9.34s/it]\n"
     ]
    },
    {
     "name": "stdout",
     "output_type": "stream",
     "text": [
      "Epoch 40\n",
      "Disc accuracy: 0.38461538461538464\n",
      "Conv accuracy: 0.3076923076923077\n",
      "Negative accuracy: 0.15384615384615385\n"
     ]
    },
    {
     "name": "stderr",
     "output_type": "stream",
     "text": [
      "100%|██████████| 13/13 [01:25<00:00,  6.55s/it]      | 1/13 [00:12<02:31, 12.59s/it]\n"
     ]
    },
    {
     "name": "stdout",
     "output_type": "stream",
     "text": [
      "Epoch 41\n",
      "Disc accuracy: 0.46153846153846156\n",
      "Conv accuracy: 0.38461538461538464\n",
      "Negative accuracy: 0.07692307692307693\n"
     ]
    },
    {
     "name": "stderr",
     "output_type": "stream",
     "text": [
      "100%|██████████| 13/13 [01:23<00:00,  7.05s/it]      | 1/13 [00:10<02:05, 10.50s/it]\n"
     ]
    },
    {
     "name": "stdout",
     "output_type": "stream",
     "text": [
      "Epoch 42\n",
      "Disc accuracy: 0.38461538461538464\n",
      "Conv accuracy: 0.46153846153846156\n",
      "Negative accuracy: 0.07692307692307693\n"
     ]
    },
    {
     "name": "stderr",
     "output_type": "stream",
     "text": [
      "100%|██████████| 13/13 [01:26<00:00,  7.53s/it]      | 1/13 [00:10<02:05, 10.48s/it]\n"
     ]
    },
    {
     "name": "stdout",
     "output_type": "stream",
     "text": [
      "Epoch 43\n",
      "Disc accuracy: 0.46153846153846156\n",
      "Conv accuracy: 0.5384615384615384\n",
      "Negative accuracy: 0.15384615384615385\n"
     ]
    },
    {
     "name": "stderr",
     "output_type": "stream",
     "text": [
      "100%|██████████| 13/13 [01:19<00:00,  6.27s/it]      | 1/13 [00:12<02:29, 12.48s/it]\n"
     ]
    },
    {
     "name": "stdout",
     "output_type": "stream",
     "text": [
      "Epoch 44\n",
      "Disc accuracy: 0.6153846153846154\n",
      "Conv accuracy: 0.46153846153846156\n",
      "Negative accuracy: 0.15384615384615385\n"
     ]
    },
    {
     "name": "stderr",
     "output_type": "stream",
     "text": [
      "100%|██████████| 13/13 [01:17<00:00,  6.27s/it]      | 1/13 [00:09<01:54,  9.55s/it]\n"
     ]
    },
    {
     "name": "stdout",
     "output_type": "stream",
     "text": [
      "Epoch 45\n",
      "Disc accuracy: 0.5384615384615384\n",
      "Conv accuracy: 0.38461538461538464\n",
      "Negative accuracy: 0.07692307692307693\n"
     ]
    },
    {
     "name": "stderr",
     "output_type": "stream",
     "text": [
      "100%|██████████| 13/13 [01:27<00:00,  6.71s/it]      | 1/13 [00:12<02:27, 12.27s/it]\n"
     ]
    },
    {
     "name": "stdout",
     "output_type": "stream",
     "text": [
      "Epoch 46\n",
      "Disc accuracy: 0.38461538461538464\n",
      "Conv accuracy: 0.38461538461538464\n",
      "Negative accuracy: 0.07692307692307693\n"
     ]
    },
    {
     "name": "stderr",
     "output_type": "stream",
     "text": [
      "100%|██████████| 13/13 [01:23<00:00,  6.93s/it]      | 1/13 [00:11<02:21, 11.75s/it]\n"
     ]
    },
    {
     "name": "stdout",
     "output_type": "stream",
     "text": [
      "Epoch 47\n",
      "Disc accuracy: 0.38461538461538464\n",
      "Conv accuracy: 0.23076923076923078\n",
      "Negative accuracy: 0.0\n"
     ]
    },
    {
     "name": "stderr",
     "output_type": "stream",
     "text": [
      "100%|██████████| 13/13 [01:25<00:00,  6.76s/it]      | 1/13 [00:11<02:23, 12.00s/it]\n"
     ]
    },
    {
     "name": "stdout",
     "output_type": "stream",
     "text": [
      "Epoch 48\n",
      "Disc accuracy: 0.46153846153846156\n",
      "Conv accuracy: 0.38461538461538464\n",
      "Negative accuracy: 0.07692307692307693\n"
     ]
    },
    {
     "name": "stderr",
     "output_type": "stream",
     "text": [
      "100%|██████████| 13/13 [01:14<00:00,  6.05s/it]      | 1/13 [00:10<02:03, 10.26s/it]\n"
     ]
    },
    {
     "name": "stdout",
     "output_type": "stream",
     "text": [
      "Epoch 49\n",
      "Disc accuracy: 0.5384615384615384\n",
      "Conv accuracy: 0.3076923076923077\n",
      "Negative accuracy: 0.07692307692307693\n"
     ]
    },
    {
     "name": "stderr",
     "output_type": "stream",
     "text": [
      "100%|██████████| 13/13 [01:13<00:00,  6.01s/it]      | 1/13 [00:09<01:54,  9.56s/it]\n"
     ]
    },
    {
     "name": "stdout",
     "output_type": "stream",
     "text": [
      "Epoch 50\n",
      "Disc accuracy: 0.5384615384615384\n",
      "Conv accuracy: 0.23076923076923078\n",
      "Negative accuracy: 0.07692307692307693\n"
     ]
    },
    {
     "name": "stderr",
     "output_type": "stream",
     "text": [
      "100%|██████████| 13/13 [01:13<00:00,  6.04s/it]      | 1/13 [00:09<01:52,  9.39s/it]\n"
     ]
    },
    {
     "name": "stdout",
     "output_type": "stream",
     "text": [
      "Epoch 51\n",
      "Disc accuracy: 0.6153846153846154\n",
      "Conv accuracy: 0.38461538461538464\n",
      "Negative accuracy: 0.07692307692307693\n"
     ]
    },
    {
     "name": "stderr",
     "output_type": "stream",
     "text": [
      "100%|██████████| 13/13 [01:13<00:00,  6.06s/it]      | 1/13 [00:09<01:53,  9.42s/it]\n"
     ]
    },
    {
     "name": "stdout",
     "output_type": "stream",
     "text": [
      "Epoch 52\n",
      "Disc accuracy: 0.46153846153846156\n",
      "Conv accuracy: 0.38461538461538464\n",
      "Negative accuracy: 0.23076923076923078\n"
     ]
    },
    {
     "name": "stderr",
     "output_type": "stream",
     "text": [
      " 77%|███████▋  | 10/13 [00:56<00:15,  5.21s/it]      | 1/13 [00:09<01:52,  9.35s/it]"
     ]
    },
    {
     "ename": "KeyboardInterrupt",
     "evalue": "",
     "output_type": "error",
     "traceback": [
      "\u001b[0;31m---------------------------------------------------------------------------\u001b[0m",
      "\u001b[0;31mKeyboardInterrupt\u001b[0m                         Traceback (most recent call last)",
      "\u001b[0;32m<ipython-input-49-8962d804d96d>\u001b[0m in \u001b[0;36m<module>\u001b[0;34m()\u001b[0m\n\u001b[1;32m     26\u001b[0m             \u001b[0;32mbreak\u001b[0m\u001b[0;34m\u001b[0m\u001b[0m\n\u001b[1;32m     27\u001b[0m         \u001b[0;32mif\u001b[0m \u001b[0mn\u001b[0m\u001b[0;34m%\u001b[0m\u001b[0;36m2\u001b[0m \u001b[0;34m==\u001b[0m \u001b[0;36m0\u001b[0m\u001b[0;34m:\u001b[0m\u001b[0;34m\u001b[0m\u001b[0m\n\u001b[0;32m---> 28\u001b[0;31m             \u001b[0mtrain_r\u001b[0m\u001b[0;34m(\u001b[0m\u001b[0mnp\u001b[0m\u001b[0;34m.\u001b[0m\u001b[0masarray\u001b[0m\u001b[0;34m(\u001b[0m\u001b[0mx_batch\u001b[0m\u001b[0;34m)\u001b[0m\u001b[0;34m[\u001b[0m\u001b[0;34m:\u001b[0m\u001b[0;34m,\u001b[0m\u001b[0;32mNone\u001b[0m\u001b[0;34m]\u001b[0m\u001b[0;34m,\u001b[0m \u001b[0my_batch\u001b[0m\u001b[0;34m,\u001b[0m \u001b[0mnp\u001b[0m\u001b[0;34m.\u001b[0m\u001b[0masarray\u001b[0m\u001b[0;34m(\u001b[0m\u001b[0mx_tr_real\u001b[0m\u001b[0;34m[\u001b[0m\u001b[0mn\u001b[0m\u001b[0;34m*\u001b[0m\u001b[0mbatchsize\u001b[0m \u001b[0;34m:\u001b[0m \u001b[0;34m(\u001b[0m\u001b[0mn\u001b[0m\u001b[0;34m+\u001b[0m\u001b[0;36m1\u001b[0m\u001b[0;34m)\u001b[0m\u001b[0;34m*\u001b[0m\u001b[0mbatchsize\u001b[0m\u001b[0;34m]\u001b[0m\u001b[0;34m)\u001b[0m\u001b[0;34m[\u001b[0m\u001b[0;34m:\u001b[0m\u001b[0;34m,\u001b[0m\u001b[0;32mNone\u001b[0m\u001b[0;34m]\u001b[0m\u001b[0;34m,\u001b[0m \u001b[0my_tr_real\u001b[0m\u001b[0;34m[\u001b[0m\u001b[0mn\u001b[0m\u001b[0;34m*\u001b[0m\u001b[0mbatchsize\u001b[0m \u001b[0;34m:\u001b[0m \u001b[0;34m(\u001b[0m\u001b[0mn\u001b[0m\u001b[0;34m+\u001b[0m\u001b[0;36m1\u001b[0m\u001b[0;34m)\u001b[0m\u001b[0;34m*\u001b[0m\u001b[0mbatchsize\u001b[0m\u001b[0;34m]\u001b[0m\u001b[0;34m)\u001b[0m\u001b[0;34m\u001b[0m\u001b[0m\n\u001b[0m\u001b[1;32m     29\u001b[0m         \u001b[0mtrain_f\u001b[0m\u001b[0;34m(\u001b[0m\u001b[0mnp\u001b[0m\u001b[0;34m.\u001b[0m\u001b[0masarray\u001b[0m\u001b[0;34m(\u001b[0m\u001b[0mx_tr_real\u001b[0m\u001b[0;34m[\u001b[0m\u001b[0mn\u001b[0m\u001b[0;34m*\u001b[0m\u001b[0mbatchsize\u001b[0m \u001b[0;34m:\u001b[0m \u001b[0;34m(\u001b[0m\u001b[0mn\u001b[0m\u001b[0;34m+\u001b[0m\u001b[0;36m1\u001b[0m\u001b[0;34m)\u001b[0m\u001b[0;34m*\u001b[0m\u001b[0mbatchsize\u001b[0m\u001b[0;34m]\u001b[0m\u001b[0;34m)\u001b[0m\u001b[0;34m[\u001b[0m\u001b[0;34m:\u001b[0m\u001b[0;34m,\u001b[0m \u001b[0;32mNone\u001b[0m\u001b[0;34m]\u001b[0m\u001b[0;34m,\u001b[0m \u001b[0my_tr_real\u001b[0m\u001b[0;34m[\u001b[0m\u001b[0mn\u001b[0m\u001b[0;34m*\u001b[0m\u001b[0mbatchsize\u001b[0m \u001b[0;34m:\u001b[0m \u001b[0;34m(\u001b[0m\u001b[0mn\u001b[0m\u001b[0;34m+\u001b[0m\u001b[0;36m1\u001b[0m\u001b[0;34m)\u001b[0m\u001b[0;34m*\u001b[0m\u001b[0mbatchsize\u001b[0m\u001b[0;34m]\u001b[0m\u001b[0;34m)\u001b[0m\u001b[0;34m\u001b[0m\u001b[0m\n\u001b[1;32m     30\u001b[0m \u001b[0;34m\u001b[0m\u001b[0m\n",
      "\u001b[0;32m/home/alena/anaconda3/lib/python3.5/site-packages/theano/compile/function_module.py\u001b[0m in \u001b[0;36m__call__\u001b[0;34m(self, *args, **kwargs)\u001b[0m\n\u001b[1;32m    882\u001b[0m         \u001b[0;32mtry\u001b[0m\u001b[0;34m:\u001b[0m\u001b[0;34m\u001b[0m\u001b[0m\n\u001b[1;32m    883\u001b[0m             \u001b[0moutputs\u001b[0m \u001b[0;34m=\u001b[0m\u001b[0;31m\\\u001b[0m\u001b[0;34m\u001b[0m\u001b[0m\n\u001b[0;32m--> 884\u001b[0;31m                 \u001b[0mself\u001b[0m\u001b[0;34m.\u001b[0m\u001b[0mfn\u001b[0m\u001b[0;34m(\u001b[0m\u001b[0;34m)\u001b[0m \u001b[0;32mif\u001b[0m \u001b[0moutput_subset\u001b[0m \u001b[0;32mis\u001b[0m \u001b[0;32mNone\u001b[0m \u001b[0;32melse\u001b[0m\u001b[0;31m\\\u001b[0m\u001b[0;34m\u001b[0m\u001b[0m\n\u001b[0m\u001b[1;32m    885\u001b[0m                 \u001b[0mself\u001b[0m\u001b[0;34m.\u001b[0m\u001b[0mfn\u001b[0m\u001b[0;34m(\u001b[0m\u001b[0moutput_subset\u001b[0m\u001b[0;34m=\u001b[0m\u001b[0moutput_subset\u001b[0m\u001b[0;34m)\u001b[0m\u001b[0;34m\u001b[0m\u001b[0m\n\u001b[1;32m    886\u001b[0m         \u001b[0;32mexcept\u001b[0m \u001b[0mException\u001b[0m\u001b[0;34m:\u001b[0m\u001b[0;34m\u001b[0m\u001b[0m\n",
      "\u001b[0;31mKeyboardInterrupt\u001b[0m: "
     ]
    }
   ],
   "source": [
    "batchsize=100\n",
    "\n",
    "for epoch in tqdm_notebook(range(250)):\n",
    "    \n",
    "    spec_midi_chords_clear, answ_midi_chords_clear = get_data(\"./DATA/snmc/\" + \n",
    "                                                        specs_midi_clear_names[epoch % len(specs_midi_clear_names)])\n",
    "    spec_midi_chords_noised, answ_midi_chords_noised = get_data(\"./DATA/snmn/\" + \n",
    "                                                        specs_midi_noised_names[epoch % len(specs_midi_noised_names)])\n",
    "    \n",
    "    x_tr_gen = np.concatenate((spec_midi_chords_clear, X_train))\n",
    "    y_tr_gen = np.concatenate((answ_midi_chords_clear, y_train))\n",
    "    \n",
    "    x_tr_real = np.concatenate((spec_midi_chords_noised, real_one_clear_specs_2, x_tr_gen))\n",
    "    y_tr_real = np.concatenate((np.ones(len(answ_midi_chords_clear) + len(real_one_clear_answ_2)),\n",
    "                                np.zeros(len(x_tr_gen))))\n",
    "    y_tr_real_answ = np.concatenate((answ_midi_chords_noised, real_one_clear_answ_2, y_tr_gen))\n",
    "    \n",
    "    indexes = np.arange(len(x_tr_real))\n",
    "    np.random.shuffle(indexes)\n",
    "    x_tr_real = [x_tr_real[i] for i in indexes]\n",
    "    y_tr_real = [y_tr_real[i] for i in indexes]\n",
    "    y_tr_real_answ = [y_tr_real_answ[i] for i in indexes]\n",
    "    \n",
    "    for n, (x_batch,y_batch) in enumerate(iterate_minibatches(x_tr_gen,y_tr_gen,batchsize,shuffle=True)):\n",
    "        if x_tr_real[n*batchsize : (n+1)*batchsize] == []:\n",
    "            break\n",
    "        if n%2 == 0:\n",
    "            train_r(np.asarray(x_batch)[:,None], y_batch, np.asarray(x_tr_real[n*batchsize : (n+1)*batchsize])[:,None], y_tr_real[n*batchsize : (n+1)*batchsize])   \n",
    "        train_f(np.asarray(x_tr_real[n*batchsize : (n+1)*batchsize])[:, None], y_tr_real[n*batchsize : (n+1)*batchsize])\n",
    "        \n",
    "    print(\"Epoch\",epoch)\n",
    "    disc_accs.append(eval_disc(np.asarray(test_noised_spec)[:len(x_tr_gen)//100,None],np.ones(len(x_tr_gen)//100)))\n",
    "    print(\"Disc accuracy:\", disc_accs[-1])\n",
    "    conv_accs.append(eval_conv_r(np.asarray(test_clear_spec)[:len(x_tr_gen)//100,None], test_clear_answ[:len(x_tr_gen)//100]))\n",
    "    print(\"Conv accuracy:\", conv_accs[-1])\n",
    "    neg_conv_accs.append(eval_conv_r(np.asarray(test_noised_spec)[:len(x_tr_gen)//100,None], test_noised_answ[:len(x_tr_gen)//100]))\n",
    "    print(\"Negative accuracy:\", neg_conv_accs[-1])    "
   ]
  },
  {
   "cell_type": "code",
   "execution_count": 27,
   "metadata": {
    "collapsed": false
   },
   "outputs": [
    {
     "data": {
      "text/plain": [
       "[<matplotlib.lines.Line2D at 0x7fa0c188e390>]"
      ]
     },
     "execution_count": 27,
     "metadata": {},
     "output_type": "execute_result"
    },
    {
     "data": {
      "image/png": "[encoded data removed]",
      "text/plain": [
       "<matplotlib.figure.Figure at 0x7fa0d7d1e160>"
      ]
     },
     "metadata": {},
     "output_type": "display_data"
    }
   ],
   "source": [
    "plt.plot(range(len(disc_accs)), disc_accs)"
   ]
  },
  {
   "cell_type": "code",
   "execution_count": 28,
   "metadata": {
    "collapsed": false
   },
   "outputs": [
    {
     "data": {
      "text/plain": [
       "[<matplotlib.lines.Line2D at 0x7fa0c10247f0>]"
      ]
     },
     "execution_count": 28,
     "metadata": {},
     "output_type": "execute_result"
    },
    {
     "data": {
      "image/png": "[encoded data removed]",
      "text/plain": [
       "<matplotlib.figure.Figure at 0x7fa0c29752e8>"
      ]
     },
     "metadata": {},
     "output_type": "display_data"
    }
   ],
   "source": [
    "plt.plot(range(len(neg_conv_accs)), neg_conv_accs)"
   ]
  },
  {
   "cell_type": "code",
   "execution_count": 29,
   "metadata": {
    "collapsed": false
   },
   "outputs": [
    {
     "data": {
      "text/plain": [
       "[<matplotlib.lines.Line2D at 0x7fa0c0f8a780>]"
      ]
     },
     "execution_count": 29,
     "metadata": {},
     "output_type": "execute_result"
    },
    {
     "data": {
      "image/png": "[encoded data removed]",
      "text/plain": [
       "<matplotlib.figure.Figure at 0x7fa0c107feb8>"
      ]
     },
     "metadata": {},
     "output_type": "display_data"
    }
   ],
   "source": [
    "plt.plot(range(len(conv_accs)), conv_accs)"
   ]
  },
  {
   "cell_type": "code",
   "execution_count": null,
   "metadata": {
    "collapsed": true
   },
   "outputs": [],
   "source": []
  }
 ],
 "metadata": {
  "anaconda-cloud": {},
  "kernelspec": {
   "display_name": "Python [conda root]",
   "language": "python",
   "name": "conda-root-py"
  },
  "language_info": {
   "codemirror_mode": {
    "name": "ipython",
    "version": 3
   },
   "file_extension": ".py",
   "mimetype": "text/x-python",
   "name": "python",
   "nbconvert_exporter": "python",
   "pygments_lexer": "ipython3",
   "version": "3.5.2"
  }
 },
 "nbformat": 4,
 "nbformat_minor": 2
}
