{
 "cells": [
  {
   "cell_type": "code",
   "execution_count": 1,
   "metadata": {},
   "outputs": [
    {
     "name": "stdout",
     "output_type": "stream",
     "text": [
      "env: THEANO_FLAGS=\"device=gpu2\"\n"
     ]
    },
    {
     "name": "stderr",
     "output_type": "stream",
     "text": [
      "WARNING (theano.sandbox.cuda): The cuda backend is deprecated and will be removed in the next release (v0.10).  Please switch to the gpuarray backend. You can get more information about how to switch at this URL:\n",
      " https://github.com/Theano/Theano/wiki/Converting-to-the-new-gpu-back-end%28gpuarray%29\n",
      "\n",
      "Using gpu device 2: GeForce GTX 1080 (CNMeM is enabled with initial size: 22.0% of memory, cuDNN 5110)\n"
     ]
    }
   ],
   "source": [
    "%env THEANO_FLAGS=\"device=gpu2\"\n",
    "import numpy as np\n",
    "import theano\n",
    "theano.config.floatX='float32'\n",
    "import theano.tensor as T\n",
    "import lasagne\n",
    "from lasagne.layers import *\n",
    "import pickle\n",
    "from tqdm import tqdm_notebook\n",
    "from librosa import load, logamplitude\n",
    "from librosa.feature import melspectrogram\n",
    "from multiprocessing import Pool\n",
    "import matplotlib.pyplot as plt\n",
    "%matplotlib inline\n",
    "import matplotlib as mpl\n",
    "mpl.style.use('classic')"
   ]
  },
  {
   "cell_type": "code",
   "execution_count": 2,
   "metadata": {
    "collapsed": true
   },
   "outputs": [],
   "source": [
    "files = pickle.load(open(\"spectrograms_wirh_names_for_nn\", \"rb\"))\n",
    "names = [files[i][0] for i in range(len(files))]\n",
    "spectrograms = [files[i][1] for i in range(len(files))]\n",
    "del files"
   ]
  },
  {
   "cell_type": "code",
   "execution_count": 3,
   "metadata": {},
   "outputs": [
    {
     "data": {
      "application/vnd.jupyter.widget-view+json": {
       "model_id": "d5c77530769141cbbd624bd03f6c111e"
      }
     },
     "metadata": {},
     "output_type": "display_data"
    },
    {
     "name": "stdout",
     "output_type": "stream",
     "text": [
      "\n"
     ]
    }
   ],
   "source": [
    "UP_data_answ = []\n",
    "for i in tqdm_notebook(range(len(names))):\n",
    "    strs = names[i].split(\"|\")\n",
    "    a = np.zeros((88, len(strs)*3))    \n",
    "    for j in range(len(strs)*3):\n",
    "        notes = strs[j // 3][:-4].split(\",\")\n",
    "        for k in range(len(notes)):\n",
    "            if int(notes[k]) - 21 >= 70:\n",
    "                a[int(notes[k]) - 21][j] = 1\n",
    "    UP_data_answ.append(a)"
   ]
  },
  {
   "cell_type": "code",
   "execution_count": 4,
   "metadata": {},
   "outputs": [
    {
     "data": {
      "application/vnd.jupyter.widget-view+json": {
       "model_id": "5cbb9df0390c4d9f8ee283aa5abbcb5a"
      }
     },
     "metadata": {},
     "output_type": "display_data"
    },
    {
     "name": "stdout",
     "output_type": "stream",
     "text": [
      "\n"
     ]
    }
   ],
   "source": [
    "DOWN_data_answ = []\n",
    "for i in tqdm_notebook(range(len(names))):\n",
    "    strs = names[i].split(\"|\")\n",
    "    a = np.zeros((88, len(strs)*3))    \n",
    "    for j in range(len(strs)*3):\n",
    "        notes = strs[j // 3][:-4].split(\",\")\n",
    "        for k in range(len(notes)):\n",
    "            if int(notes[k]) - 21 <= 30:\n",
    "                a[int(notes[k]) - 21][j] = 1\n",
    "    DOWN_data_answ.append(a)"
   ]
  },
  {
   "cell_type": "code",
   "execution_count": 5,
   "metadata": {
    "collapsed": true
   },
   "outputs": [],
   "source": [
    "max_len = max(list(zip(*list(map(np.shape,UP_data_answ))))[1])\n",
    "UP_answ_tensor = np.zeros((len(UP_data_answ),88,max_len),dtype='uint8')\n",
    "DOWN_answ_tensor = np.zeros((len(DOWN_data_answ),88,max_len),dtype='uint8')\n",
    "max_len_spec = max(list(zip(*list(map(np.shape,spectrograms))))[1])\n",
    "spec_tensor = np.zeros((len(spectrograms),128,max_len_spec),dtype='float32')"
   ]
  },
  {
   "cell_type": "code",
   "execution_count": 6,
   "metadata": {},
   "outputs": [
    {
     "data": {
      "application/vnd.jupyter.widget-view+json": {
       "model_id": "26b3603f8e4c4d349d9b85dc9b4c671b"
      }
     },
     "metadata": {},
     "output_type": "display_data"
    },
    {
     "name": "stdout",
     "output_type": "stream",
     "text": [
      "\n"
     ]
    }
   ],
   "source": [
    "for i in tqdm_notebook(range(len(UP_data_answ))):\n",
    "    for j in range(len(UP_data_answ[i])):\n",
    "        for x in range(len(UP_data_answ[i][j])):\n",
    "            if UP_data_answ[i][j][x] == 1:\n",
    "                UP_answ_tensor[i][j][x] = 1"
   ]
  },
  {
   "cell_type": "code",
   "execution_count": 7,
   "metadata": {},
   "outputs": [
    {
     "data": {
      "application/vnd.jupyter.widget-view+json": {
       "model_id": "1b5afdfc508b4c10874915fd3efec476"
      }
     },
     "metadata": {},
     "output_type": "display_data"
    },
    {
     "name": "stdout",
     "output_type": "stream",
     "text": [
      "\n"
     ]
    }
   ],
   "source": [
    "for i in tqdm_notebook(range(len(DOWN_data_answ))):\n",
    "    for j in range(len(DOWN_data_answ[i])):\n",
    "        for x in range(len(DOWN_data_answ[i][j])):\n",
    "            if DOWN_data_answ[i][j][x] == 1:\n",
    "                DOWN_answ_tensor[i][j][x] = 1"
   ]
  },
  {
   "cell_type": "code",
   "execution_count": 8,
   "metadata": {},
   "outputs": [
    {
     "data": {
      "application/vnd.jupyter.widget-view+json": {
       "model_id": "35adc020882848aebc0f9d6b56daf7b9"
      }
     },
     "metadata": {},
     "output_type": "display_data"
    },
    {
     "name": "stdout",
     "output_type": "stream",
     "text": [
      "\n"
     ]
    }
   ],
   "source": [
    "for i in tqdm_notebook(range(len(spectrograms))):\n",
    "    for j in range(len(spectrograms[i])):\n",
    "        for x in range(len(spectrograms[i][j])):\n",
    "            spec_tensor[i][j][x] = spectrograms[i][j][x]\n",
    "        for n in range(x, len(spec_tensor[i][j])):\n",
    "            spec_tensor[i][j][n] = -80.0"
   ]
  },
  {
   "cell_type": "code",
   "execution_count": 9,
   "metadata": {
    "collapsed": true
   },
   "outputs": [],
   "source": [
    "del spectrograms"
   ]
  },
  {
   "cell_type": "code",
   "execution_count": 10,
   "metadata": {},
   "outputs": [
    {
     "name": "stderr",
     "output_type": "stream",
     "text": [
      "/anaconda2/envs/py35/lib/python3.5/site-packages/sklearn/cross_validation.py:44: DeprecationWarning: This module was deprecated in version 0.18 in favor of the model_selection module into which all the refactored classes and functions are moved. Also note that the interface of the new CV iterators are different from that of this module. This module will be removed in 0.20.\n",
      "  \"This module will be removed in 0.20.\", DeprecationWarning)\n"
     ]
    }
   ],
   "source": [
    "from sklearn.cross_validation import train_test_split\n",
    "UP_X_train,UP_X_test,UP_y_train,UP_y_test = train_test_split(spec_tensor/80.,UP_answ_tensor,train_size=50000)"
   ]
  },
  {
   "cell_type": "code",
   "execution_count": 11,
   "metadata": {
    "collapsed": true
   },
   "outputs": [],
   "source": [
    "from sklearn.cross_validation import train_test_split\n",
    "DOWN_X_train,DOWN_X_test,DOWN_y_train,DOWN_y_test = train_test_split(spec_tensor/80.,DOWN_answ_tensor,train_size=50000)"
   ]
  },
  {
   "cell_type": "code",
   "execution_count": 12,
   "metadata": {
    "collapsed": true
   },
   "outputs": [],
   "source": [
    "UP_input_X, UP_target_y = T.tensor3(\"X\", dtype='float32'), T.tensor3(\"y\", dtype='int32')\n",
    "\n",
    "DOWN_input_X, DOWN_target_y = T.tensor3(\"X\", dtype='float32'), T.tensor3(\"y\", dtype='int32')"
   ]
  },
  {
   "cell_type": "code",
   "execution_count": 13,
   "metadata": {},
   "outputs": [
    {
     "name": "stdout",
     "output_type": "stream",
     "text": [
      "(None, 128, 77)\n",
      "(None, 50, 72)\n",
      "(None, 50, 24)\n",
      "(None, 50, 21)\n",
      "(None, 88, 21)\n"
     ]
    }
   ],
   "source": [
    "up_nn = lasagne.layers.InputLayer(shape=(None, UP_X_train.shape[1], UP_X_train.shape[2]), input_var=UP_input_X/80.) \n",
    "print(up_nn.output_shape)\n",
    "up_nn = lasagne.layers.Conv1DLayer(up_nn, 50, 6)\n",
    "print(up_nn.output_shape)\n",
    "up_nn = lasagne.layers.MaxPool1DLayer(up_nn, 3)\n",
    "print(up_nn.output_shape)\n",
    "up_nn = lasagne.layers.Conv1DLayer(up_nn, 50, 4) \n",
    "print(up_nn.output_shape)\n",
    "up_nn = lasagne.layers.Conv1DLayer(up_nn, 88, 1,nonlinearity=T.nnet.sigmoid)\n",
    "print(up_nn.output_shape)\n",
    "\n",
    "\n",
    "assert up_nn.output_shape[1:] == UP_y_train.shape[1:],\"wrong output shape\""
   ]
  },
  {
   "cell_type": "code",
   "execution_count": 14,
   "metadata": {},
   "outputs": [
    {
     "name": "stdout",
     "output_type": "stream",
     "text": [
      "(None, 128, 77)\n",
      "(None, 64, 72)\n",
      "(None, 64, 24)\n",
      "(None, 64, 21)\n",
      "(None, 88, 21)\n"
     ]
    }
   ],
   "source": [
    "down_nn = lasagne.layers.InputLayer(shape=(None, DOWN_X_train.shape[1], DOWN_X_train.shape[2]), input_var=DOWN_input_X/80.) \n",
    "print(down_nn.output_shape)\n",
    "down_nn = lasagne.layers.Conv1DLayer(down_nn, 64, 6)\n",
    "print(down_nn.output_shape)\n",
    "down_nn = lasagne.layers.MaxPool1DLayer(down_nn, 3)\n",
    "print(down_nn.output_shape)\n",
    "down_nn = lasagne.layers.Conv1DLayer(down_nn, 64, 4) \n",
    "print(down_nn.output_shape)\n",
    "down_nn = lasagne.layers.Conv1DLayer(down_nn, 88, 1,nonlinearity=T.nnet.sigmoid)\n",
    "print(down_nn.output_shape)\n",
    "\n",
    "\n",
    "assert down_nn.output_shape[1:] == DOWN_y_train.shape[1:],\"wrong output shape\""
   ]
  },
  {
   "cell_type": "code",
   "execution_count": 15,
   "metadata": {
    "collapsed": true
   },
   "outputs": [],
   "source": [
    "UP_y_pred  = lasagne.layers.get_output(up_nn)\n",
    "UP_loss = lasagne.objectives.binary_crossentropy(UP_y_pred, UP_target_y).mean()\n",
    "UP_weights = lasagne.layers.get_all_params(up_nn)\n",
    "UP_updates_sgd = lasagne.updates.adam(UP_loss, UP_weights)\n",
    "\n",
    "UP_train_fun = theano.function([UP_input_X, UP_target_y], UP_loss, allow_input_downcast=True, updates=UP_updates_sgd)\n",
    "UP_test_fun = theano.function([UP_input_X, UP_target_y], UP_loss, allow_input_downcast=True)\n",
    "\n",
    "UP_predict_probas = theano.function([UP_input_X],UP_y_pred)"
   ]
  },
  {
   "cell_type": "code",
   "execution_count": 16,
   "metadata": {},
   "outputs": [
    {
     "data": {
      "text/plain": [
       "[array([[[-0.04610276,  0.06155236,  0.04998708, -0.06887158,  0.03964279,\n",
       "           0.04708454],\n",
       "         [-0.06216497, -0.01612028, -0.01152193,  0.05797808, -0.06967107,\n",
       "           0.0554881 ],\n",
       "         [ 0.00458699, -0.06473682,  0.05745115,  0.0706812 ,  0.01827125,\n",
       "           0.01666304],\n",
       "         ..., \n",
       "         [-0.03910625, -0.06628009, -0.03405308,  0.04246236,  0.04111711,\n",
       "          -0.06909871],\n",
       "         [ 0.06457717,  0.01994377, -0.07256221,  0.04128768, -0.01856171,\n",
       "          -0.02413497],\n",
       "         [ 0.01147756,  0.03810066,  0.07269251,  0.04641666,  0.06720113,\n",
       "           0.00894774]],\n",
       " \n",
       "        [[ 0.07268669,  0.0037631 ,  0.06761196, -0.07185768,  0.04940695,\n",
       "          -0.03633845],\n",
       "         [ 0.03569934,  0.06262033, -0.07412953,  0.02408648, -0.01498801,\n",
       "          -0.06110302],\n",
       "         [-0.06127106,  0.04693678, -0.02950691,  0.05476362,  0.04783538,\n",
       "           0.02038178],\n",
       "         ..., \n",
       "         [ 0.06580227,  0.01712368,  0.02796186,  0.06940942, -0.04092123,\n",
       "           0.07462469],\n",
       "         [-0.00686762, -0.05793468, -0.05475622,  0.06752976, -0.01066104,\n",
       "          -0.06380085],\n",
       "         [ 0.05406788,  0.01863186, -0.04017701,  0.02434251, -0.05594404,\n",
       "          -0.06641665]],\n",
       " \n",
       "        [[-0.07023823, -0.069618  , -0.06393807, -0.01676076, -0.05179626,\n",
       "          -0.02202472],\n",
       "         [-0.01124147,  0.00378465,  0.03314467, -0.00313372,  0.07432506,\n",
       "          -0.06895845],\n",
       "         [ 0.05426258, -0.02359714,  0.0195982 , -0.07319115, -0.0533562 ,\n",
       "          -0.04067215],\n",
       "         ..., \n",
       "         [ 0.01513146,  0.06748668, -0.02324454,  0.07131515, -0.0483427 ,\n",
       "           0.01720432],\n",
       "         [-0.01808397,  0.00542952, -0.01698171, -0.06490958, -0.0718853 ,\n",
       "           0.06460029],\n",
       "         [ 0.05611837,  0.02986122,  0.06906664, -0.06819214,  0.04666427,\n",
       "          -0.00034622]],\n",
       " \n",
       "        ..., \n",
       "        [[-0.04383668,  0.03338173,  0.05807849, -0.047773  ,  0.04769355,\n",
       "           0.06377324],\n",
       "         [-0.06258614,  0.04323572,  0.02859831, -0.02161645, -0.03130757,\n",
       "           0.05387964],\n",
       "         [ 0.06333663,  0.01963364,  0.00654383,  0.05561701, -0.01411949,\n",
       "           0.05704011],\n",
       "         ..., \n",
       "         [-0.00679087, -0.00965017,  0.04043141,  0.04457385, -0.01205858,\n",
       "           0.05243335],\n",
       "         [-0.02365176, -0.04129037,  0.06091234,  0.05403715, -0.00578675,\n",
       "           0.06277911],\n",
       "         [-0.04666561,  0.01738304, -0.04880116, -0.03590944,  0.05851958,\n",
       "           0.01056019]],\n",
       " \n",
       "        [[ 0.00271201,  0.02283582, -0.0017098 , -0.03386586, -0.01627084,\n",
       "           0.02706624],\n",
       "         [-0.00617881,  0.02483708,  0.03902582,  0.00210266, -0.04426493,\n",
       "          -0.04015534],\n",
       "         [ 0.07055823, -0.02542818,  0.02450784, -0.05660788, -0.02671824,\n",
       "           0.04684504],\n",
       "         ..., \n",
       "         [ 0.00332527,  0.02198987,  0.00517567,  0.05248288, -0.06024333,\n",
       "           0.02340948],\n",
       "         [-0.06933277, -0.04728666,  0.02942937,  0.06296463,  0.05494313,\n",
       "           0.03581724],\n",
       "         [-0.05220519,  0.07249133, -0.03970684,  0.001782  ,  0.04439539,\n",
       "          -0.04891769]],\n",
       " \n",
       "        [[ 0.0617097 , -0.05622816,  0.0381255 , -0.04507228, -0.0574821 ,\n",
       "           0.0694309 ],\n",
       "         [-0.06516825,  0.00221085,  0.01875883,  0.03300048, -0.01327161,\n",
       "          -0.0730767 ],\n",
       "         [-0.04919354,  0.00147072, -0.01498639, -0.05206795,  0.05818868,\n",
       "          -0.06549212],\n",
       "         ..., \n",
       "         [ 0.06369428, -0.0057393 , -0.05080613,  0.04717383,  0.05161833,\n",
       "          -0.0064222 ],\n",
       "         [-0.03042744,  0.05914161, -0.03480229,  0.06315047,  0.01804269,\n",
       "          -0.02908374],\n",
       "         [ 0.01852996, -0.04916655,  0.05517258,  0.00444352, -0.03417505,\n",
       "           0.03171184]]], dtype=float32),\n",
       " array([ 0.,  0.,  0.,  0.,  0.,  0.,  0.,  0.,  0.,  0.,  0.,  0.,  0.,\n",
       "         0.,  0.,  0.,  0.,  0.,  0.,  0.,  0.,  0.,  0.,  0.,  0.,  0.,\n",
       "         0.,  0.,  0.,  0.,  0.,  0.,  0.,  0.,  0.,  0.,  0.,  0.,  0.,\n",
       "         0.,  0.,  0.,  0.,  0.,  0.,  0.,  0.,  0.,  0.,  0.], dtype=float32),\n",
       " array([[[-0.03410235,  0.0827108 ,  0.03187661, -0.00268619],\n",
       "         [ 0.06958953,  0.03359142, -0.02827621, -0.11657064],\n",
       "         [ 0.00629367, -0.10628699,  0.11352937,  0.11958463],\n",
       "         ..., \n",
       "         [-0.08954331,  0.06345636,  0.10705563,  0.0177106 ],\n",
       "         [-0.07535428,  0.05040042, -0.11488567, -0.01756098],\n",
       "         [ 0.03346131, -0.00715262,  0.09529404,  0.0769794 ]],\n",
       " \n",
       "        [[ 0.1127333 ,  0.079421  , -0.07252119,  0.06775677],\n",
       "         [ 0.12109123,  0.07423077, -0.03002803, -0.01523301],\n",
       "         [-0.00499283, -0.07819045,  0.02282461, -0.01218503],\n",
       "         ..., \n",
       "         [-0.01145452,  0.09344362, -0.11486319, -0.06690435],\n",
       "         [ 0.02404814,  0.0840404 , -0.11462361, -0.04182848],\n",
       "         [ 0.07406425,  0.0937281 ,  0.02224289, -0.10877386]],\n",
       " \n",
       "        [[ 0.02425541,  0.07626469, -0.04949021, -0.03678752],\n",
       "         [-0.04968574, -0.06969118, -0.01401062,  0.06045124],\n",
       "         [ 0.0550394 ,  0.08086509, -0.0235916 ,  0.09828142],\n",
       "         ..., \n",
       "         [-0.00754702, -0.00789592, -0.06504869,  0.06634851],\n",
       "         [-0.07388811, -0.12135965, -0.01265128,  0.09891374],\n",
       "         [-0.07578102, -0.04650672, -0.09411544, -0.09715611]],\n",
       " \n",
       "        ..., \n",
       "        [[ 0.11678188, -0.05931173, -0.02706061,  0.05847851],\n",
       "         [ 0.11668062,  0.0864211 ,  0.05738097,  0.03495985],\n",
       "         [ 0.02621412, -0.08571145, -0.10405941,  0.0330971 ],\n",
       "         ..., \n",
       "         [-0.05384497,  0.06862105, -0.08952449,  0.1030867 ],\n",
       "         [ 0.10876715, -0.0688082 , -0.06313717, -0.09581722],\n",
       "         [-0.09942848, -0.02277646, -0.10116974,  0.01926643]],\n",
       " \n",
       "        [[ 0.04867269,  0.05957783, -0.105629  ,  0.06480639],\n",
       "         [ 0.06584457, -0.12045473, -0.01896567, -0.120263  ],\n",
       "         [ 0.00074517,  0.0088514 ,  0.04925266, -0.07408249],\n",
       "         ..., \n",
       "         [ 0.02450313,  0.04509627, -0.03069522, -0.11033209],\n",
       "         [ 0.06259314,  0.06387681,  0.02441944, -0.1204858 ],\n",
       "         [ 0.02552452,  0.03828251,  0.01797641, -0.10136706]],\n",
       " \n",
       "        [[ 0.10007186, -0.09644993, -0.09994874, -0.01963383],\n",
       "         [-0.05973044, -0.0448998 ,  0.08918097,  0.06769632],\n",
       "         [-0.04804246, -0.03385831,  0.03269123, -0.09631564],\n",
       "         ..., \n",
       "         [-0.11648782,  0.05916094, -0.09635142, -0.08559984],\n",
       "         [-0.00943767,  0.03582147, -0.11206076,  0.05091396],\n",
       "         [ 0.04565873, -0.01047551, -0.10569817, -0.1104171 ]]], dtype=float32),\n",
       " array([ 0.,  0.,  0.,  0.,  0.,  0.,  0.,  0.,  0.,  0.,  0.,  0.,  0.,\n",
       "         0.,  0.,  0.,  0.,  0.,  0.,  0.,  0.,  0.,  0.,  0.,  0.,  0.,\n",
       "         0.,  0.,  0.,  0.,  0.,  0.,  0.,  0.,  0.,  0.,  0.,  0.,  0.,\n",
       "         0.,  0.,  0.,  0.,  0.,  0.,  0.,  0.,  0.,  0.,  0.], dtype=float32),\n",
       " array([[[-0.06380097],\n",
       "         [-0.11064449],\n",
       "         [-0.01319261],\n",
       "         ..., \n",
       "         [-0.19226761],\n",
       "         [ 0.02157751],\n",
       "         [ 0.05311191]],\n",
       " \n",
       "        [[-0.19088537],\n",
       "         [ 0.01680306],\n",
       "         [ 0.01836476],\n",
       "         ..., \n",
       "         [ 0.07360486],\n",
       "         [-0.07485119],\n",
       "         [-0.02342931]],\n",
       " \n",
       "        [[-0.17893818],\n",
       "         [ 0.16025215],\n",
       "         [-0.14354274],\n",
       "         ..., \n",
       "         [-0.10769844],\n",
       "         [-0.05103487],\n",
       "         [-0.14081126]],\n",
       " \n",
       "        ..., \n",
       "        [[ 0.09215755],\n",
       "         [ 0.04068369],\n",
       "         [ 0.00906017],\n",
       "         ..., \n",
       "         [ 0.12939587],\n",
       "         [-0.11489568],\n",
       "         [-0.08007927]],\n",
       " \n",
       "        [[ 0.2023571 ],\n",
       "         [ 0.06967638],\n",
       "         [-0.06280342],\n",
       "         ..., \n",
       "         [ 0.16448627],\n",
       "         [-0.13025698],\n",
       "         [-0.10933384]],\n",
       " \n",
       "        [[-0.02136354],\n",
       "         [ 0.1706626 ],\n",
       "         [-0.1615108 ],\n",
       "         ..., \n",
       "         [-0.06781708],\n",
       "         [ 0.19455875],\n",
       "         [ 0.04215828]]], dtype=float32),\n",
       " array([ 0.,  0.,  0.,  0.,  0.,  0.,  0.,  0.,  0.,  0.,  0.,  0.,  0.,\n",
       "         0.,  0.,  0.,  0.,  0.,  0.,  0.,  0.,  0.,  0.,  0.,  0.,  0.,\n",
       "         0.,  0.,  0.,  0.,  0.,  0.,  0.,  0.,  0.,  0.,  0.,  0.,  0.,\n",
       "         0.,  0.,  0.,  0.,  0.,  0.,  0.,  0.,  0.,  0.,  0.,  0.,  0.,\n",
       "         0.,  0.,  0.,  0.,  0.,  0.,  0.,  0.,  0.,  0.,  0.,  0.,  0.,\n",
       "         0.,  0.,  0.,  0.,  0.,  0.,  0.,  0.,  0.,  0.,  0.,  0.,  0.,\n",
       "         0.,  0.,  0.,  0.,  0.,  0.,  0.,  0.,  0.,  0.], dtype=float32)]"
      ]
     },
     "execution_count": 16,
     "metadata": {},
     "output_type": "execute_result"
    }
   ],
   "source": [
    "lasagne.layers.get_all_param_values(up_nn)"
   ]
  },
  {
   "cell_type": "code",
   "execution_count": 17,
   "metadata": {
    "collapsed": true
   },
   "outputs": [],
   "source": [
    "DOWN_y_pred  = lasagne.layers.get_output(down_nn)\n",
    "DOWN_loss = lasagne.objectives.binary_crossentropy(DOWN_y_pred, DOWN_target_y).mean()\n",
    "DOWN_weights = lasagne.layers.get_all_params(down_nn)\n",
    "DOWN_updates_sgd = lasagne.updates.adam(DOWN_loss, DOWN_weights)\n",
    "\n",
    "DOWN_train_fun = theano.function([DOWN_input_X, DOWN_target_y], DOWN_loss, allow_input_downcast=True, updates=DOWN_updates_sgd)\n",
    "DOWN_test_fun = theano.function([DOWN_input_X, DOWN_target_y], DOWN_loss, allow_input_downcast=True)\n",
    "\n",
    "DOWN_predict_probas = theano.function([DOWN_input_X],DOWN_y_pred)"
   ]
  },
  {
   "cell_type": "code",
   "execution_count": 18,
   "metadata": {},
   "outputs": [
    {
     "data": {
      "text/plain": [
       "<matplotlib.image.AxesImage at 0x7fefd7ca7ac8>"
      ]
     },
     "execution_count": 18,
     "metadata": {},
     "output_type": "execute_result"
    },
    {
     "data": {
      "image/png": "[encoded data removed]",
      "text/plain": [
       "<matplotlib.figure.Figure at 0x7ff08eb65ba8>"
      ]
     },
     "metadata": {},
     "output_type": "display_data"
    }
   ],
   "source": [
    "plt.imshow(UP_y_train[9999])"
   ]
  },
  {
   "cell_type": "code",
   "execution_count": 28,
   "metadata": {},
   "outputs": [
    {
     "data": {
      "application/vnd.jupyter.widget-view+json": {
       "model_id": "2cb33cadb5544f12a023e74d1e05d610"
      }
     },
     "metadata": {},
     "output_type": "display_data"
    },
    {
     "data": {
      "application/vnd.jupyter.widget-view+json": {
       "model_id": "1d17cef743bd4d91b137caea2c6ba346"
      }
     },
     "metadata": {},
     "output_type": "display_data"
    },
    {
     "name": "stdout",
     "output_type": "stream",
     "text": [
      "\n",
      "2549/|/ 76%|| 2549/3333 [01:14<00:22, 34.18it/s]"
     ]
    },
    {
     "ename": "KeyboardInterrupt",
     "evalue": "",
     "output_type": "error",
     "traceback": [
      "\u001b[0;31m---------------------------------------------------------------------------\u001b[0m",
      "\u001b[0;31mKeyboardInterrupt\u001b[0m                         Traceback (most recent call last)",
      "\u001b[0;32m<ipython-input-28-bcfb0768f673>\u001b[0m in \u001b[0;36m<module>\u001b[0;34m()\u001b[0m\n\u001b[1;32m      9\u001b[0m         \u001b[0mUP_x_batch\u001b[0m \u001b[0;34m=\u001b[0m \u001b[0mUP_X_train\u001b[0m\u001b[0;34m[\u001b[0m\u001b[0mbatch\u001b[0m\u001b[0;34m*\u001b[0m\u001b[0mbatch_size\u001b[0m\u001b[0;34m:\u001b[0m \u001b[0;34m(\u001b[0m\u001b[0mbatch\u001b[0m\u001b[0;34m+\u001b[0m\u001b[0;36m1\u001b[0m\u001b[0;34m)\u001b[0m \u001b[0;34m*\u001b[0m \u001b[0mbatch_size\u001b[0m\u001b[0;34m]\u001b[0m\u001b[0;34m\u001b[0m\u001b[0m\n\u001b[1;32m     10\u001b[0m         \u001b[0mUP_y_batch\u001b[0m \u001b[0;34m=\u001b[0m \u001b[0mUP_y_train\u001b[0m\u001b[0;34m[\u001b[0m\u001b[0mbatch\u001b[0m\u001b[0;34m*\u001b[0m\u001b[0mbatch_size\u001b[0m\u001b[0;34m:\u001b[0m \u001b[0;34m(\u001b[0m\u001b[0mbatch\u001b[0m\u001b[0;34m+\u001b[0m\u001b[0;36m1\u001b[0m\u001b[0;34m)\u001b[0m \u001b[0;34m*\u001b[0m \u001b[0mbatch_size\u001b[0m\u001b[0;34m]\u001b[0m\u001b[0;34m\u001b[0m\u001b[0m\n\u001b[0;32m---> 11\u001b[0;31m         \u001b[0mUP_loss\u001b[0m \u001b[0;34m=\u001b[0m \u001b[0mUP_train_fun\u001b[0m\u001b[0;34m(\u001b[0m\u001b[0mUP_x_batch\u001b[0m\u001b[0;34m,\u001b[0m\u001b[0mUP_y_batch\u001b[0m\u001b[0;34m)\u001b[0m\u001b[0;34m\u001b[0m\u001b[0m\n\u001b[0m\u001b[1;32m     12\u001b[0m     \u001b[0mprint\u001b[0m\u001b[0;34m(\u001b[0m\u001b[0;34m\"UP\"\u001b[0m\u001b[0;34m,\u001b[0m \u001b[0mUP_loss\u001b[0m\u001b[0;34m)\u001b[0m\u001b[0;34m\u001b[0m\u001b[0m\n\u001b[1;32m     13\u001b[0m \u001b[0;31m#     for batch in tnrange(n_batches):\u001b[0m\u001b[0;34m\u001b[0m\u001b[0;34m\u001b[0m\u001b[0m\n",
      "\u001b[0;32m/anaconda2/envs/py35/lib/python3.5/site-packages/theano/compile/function_module.py\u001b[0m in \u001b[0;36m__call__\u001b[0;34m(self, *args, **kwargs)\u001b[0m\n\u001b[1;32m    793\u001b[0m                         s.storage[0] = s.type.filter(\n\u001b[1;32m    794\u001b[0m                             \u001b[0marg\u001b[0m\u001b[0;34m,\u001b[0m \u001b[0mstrict\u001b[0m\u001b[0;34m=\u001b[0m\u001b[0ms\u001b[0m\u001b[0;34m.\u001b[0m\u001b[0mstrict\u001b[0m\u001b[0;34m,\u001b[0m\u001b[0;34m\u001b[0m\u001b[0m\n\u001b[0;32m--> 795\u001b[0;31m                             allow_downcast=s.allow_downcast)\n\u001b[0m\u001b[1;32m    796\u001b[0m \u001b[0;34m\u001b[0m\u001b[0m\n\u001b[1;32m    797\u001b[0m                     \u001b[0;32mexcept\u001b[0m \u001b[0mException\u001b[0m \u001b[0;32mas\u001b[0m \u001b[0me\u001b[0m\u001b[0;34m:\u001b[0m\u001b[0;34m\u001b[0m\u001b[0m\n",
      "\u001b[0;32m/anaconda2/envs/py35/lib/python3.5/site-packages/theano/tensor/type.py\u001b[0m in \u001b[0;36mfilter\u001b[0;34m(self, data, strict, allow_downcast)\u001b[0m\n\u001b[1;32m    115\u001b[0m             \u001b[0;32mif\u001b[0m \u001b[0mallow_downcast\u001b[0m\u001b[0;34m:\u001b[0m\u001b[0;34m\u001b[0m\u001b[0m\n\u001b[1;32m    116\u001b[0m                 \u001b[0;31m# Convert to self.dtype, regardless of the type of data\u001b[0m\u001b[0;34m\u001b[0m\u001b[0;34m\u001b[0m\u001b[0m\n\u001b[0;32m--> 117\u001b[0;31m                 \u001b[0mdata\u001b[0m \u001b[0;34m=\u001b[0m \u001b[0mtheano\u001b[0m\u001b[0;34m.\u001b[0m\u001b[0m_asarray\u001b[0m\u001b[0;34m(\u001b[0m\u001b[0mdata\u001b[0m\u001b[0;34m,\u001b[0m \u001b[0mdtype\u001b[0m\u001b[0;34m=\u001b[0m\u001b[0mself\u001b[0m\u001b[0;34m.\u001b[0m\u001b[0mdtype\u001b[0m\u001b[0;34m)\u001b[0m\u001b[0;34m\u001b[0m\u001b[0m\n\u001b[0m\u001b[1;32m    118\u001b[0m                 \u001b[0;31m# TODO: consider to pad shape with ones to make it consistent\u001b[0m\u001b[0;34m\u001b[0m\u001b[0;34m\u001b[0m\u001b[0m\n\u001b[1;32m    119\u001b[0m                 \u001b[0;31m# with self.broadcastable... like vector->row type thing\u001b[0m\u001b[0;34m\u001b[0m\u001b[0;34m\u001b[0m\u001b[0m\n",
      "\u001b[0;32m/anaconda2/envs/py35/lib/python3.5/site-packages/theano/misc/safe_asarray.py\u001b[0m in \u001b[0;36m_asarray\u001b[0;34m(a, dtype, order)\u001b[0m\n\u001b[1;32m     32\u001b[0m         \u001b[0mdtype\u001b[0m \u001b[0;34m=\u001b[0m \u001b[0mtheano\u001b[0m\u001b[0;34m.\u001b[0m\u001b[0mconfig\u001b[0m\u001b[0;34m.\u001b[0m\u001b[0mfloatX\u001b[0m\u001b[0;34m\u001b[0m\u001b[0m\n\u001b[1;32m     33\u001b[0m     \u001b[0mdtype\u001b[0m \u001b[0;34m=\u001b[0m \u001b[0mnp\u001b[0m\u001b[0;34m.\u001b[0m\u001b[0mdtype\u001b[0m\u001b[0;34m(\u001b[0m\u001b[0mdtype\u001b[0m\u001b[0;34m)\u001b[0m  \u001b[0;31m# Convert into dtype object.\u001b[0m\u001b[0;34m\u001b[0m\u001b[0m\n\u001b[0;32m---> 34\u001b[0;31m     \u001b[0mrval\u001b[0m \u001b[0;34m=\u001b[0m \u001b[0mnp\u001b[0m\u001b[0;34m.\u001b[0m\u001b[0masarray\u001b[0m\u001b[0;34m(\u001b[0m\u001b[0ma\u001b[0m\u001b[0;34m,\u001b[0m \u001b[0mdtype\u001b[0m\u001b[0;34m=\u001b[0m\u001b[0mdtype\u001b[0m\u001b[0;34m,\u001b[0m \u001b[0morder\u001b[0m\u001b[0;34m=\u001b[0m\u001b[0morder\u001b[0m\u001b[0;34m)\u001b[0m\u001b[0;34m\u001b[0m\u001b[0m\n\u001b[0m\u001b[1;32m     35\u001b[0m     \u001b[0;31m# Note that dtype comparison must be done by comparing their `num`\u001b[0m\u001b[0;34m\u001b[0m\u001b[0;34m\u001b[0m\u001b[0m\n\u001b[1;32m     36\u001b[0m     \u001b[0;31m# attribute. One cannot assume that two identical data types are pointers\u001b[0m\u001b[0;34m\u001b[0m\u001b[0;34m\u001b[0m\u001b[0m\n",
      "\u001b[0;32m/anaconda2/envs/py35/lib/python3.5/site-packages/numpy/core/numeric.py\u001b[0m in \u001b[0;36masarray\u001b[0;34m(a, dtype, order)\u001b[0m\n\u001b[1;32m    529\u001b[0m \u001b[0;34m\u001b[0m\u001b[0m\n\u001b[1;32m    530\u001b[0m     \"\"\"\n\u001b[0;32m--> 531\u001b[0;31m     \u001b[0;32mreturn\u001b[0m \u001b[0marray\u001b[0m\u001b[0;34m(\u001b[0m\u001b[0ma\u001b[0m\u001b[0;34m,\u001b[0m \u001b[0mdtype\u001b[0m\u001b[0;34m,\u001b[0m \u001b[0mcopy\u001b[0m\u001b[0;34m=\u001b[0m\u001b[0;32mFalse\u001b[0m\u001b[0;34m,\u001b[0m \u001b[0morder\u001b[0m\u001b[0;34m=\u001b[0m\u001b[0morder\u001b[0m\u001b[0;34m)\u001b[0m\u001b[0;34m\u001b[0m\u001b[0m\n\u001b[0m\u001b[1;32m    532\u001b[0m \u001b[0;34m\u001b[0m\u001b[0m\n\u001b[1;32m    533\u001b[0m \u001b[0;34m\u001b[0m\u001b[0m\n",
      "\u001b[0;31mKeyboardInterrupt\u001b[0m: "
     ]
    }
   ],
   "source": [
    "batch_size = 15\n",
    "epochs = 300\n",
    "n_examples = UP_X_train.shape[0]\n",
    "n_batches = n_examples // batch_size\n",
    "\n",
    "from tqdm import tnrange\n",
    "for epoch in tnrange(epochs):\n",
    "    for batch in tnrange(n_batches):\n",
    "        UP_x_batch = UP_X_train[batch*batch_size: (batch+1) * batch_size]\n",
    "        UP_y_batch = UP_y_train[batch*batch_size: (batch+1) * batch_size]\n",
    "        UP_loss = UP_train_fun(UP_x_batch,UP_y_batch)\n",
    "    print(\"UP\", UP_loss)\n",
    "#     for batch in tnrange(n_batches):\n",
    "#         DOWN_x_batch = DOWN_X_train[batch*batch_size: (batch+1) * batch_size]\n",
    "#         DOWN_y_batch = DOWN_y_train[batch*batch_size: (batch+1) * batch_size]\n",
    "#         DOWN_loss = DOWN_train_fun(DOWN_x_batch,DOWN_y_batch)\n",
    "#     print(\"DOWN\", DOWN_loss)"
   ]
  },
  {
   "cell_type": "code",
   "execution_count": 29,
   "metadata": {},
   "outputs": [
    {
     "data": {
      "text/plain": [
       "array(0.0017383826272895995)"
      ]
     },
     "execution_count": 29,
     "metadata": {},
     "output_type": "execute_result"
    }
   ],
   "source": [
    "UP_test_fun(UP_X_test[:30], UP_y_test[:30])"
   ]
  },
  {
   "cell_type": "code",
   "execution_count": 32,
   "metadata": {},
   "outputs": [
    {
     "ename": "NameError",
     "evalue": "name 'y_tr' is not defined",
     "output_type": "error",
     "traceback": [
      "\u001b[0;31m---------------------------------------------------------------------------\u001b[0m",
      "\u001b[0;31mNameError\u001b[0m                                 Traceback (most recent call last)",
      "\u001b[0;32m<ipython-input-32-b54b65387515>\u001b[0m in \u001b[0;36m<module>\u001b[0;34m()\u001b[0m\n\u001b[1;32m      1\u001b[0m \u001b[0mb\u001b[0m \u001b[0;34m=\u001b[0m \u001b[0;36m23\u001b[0m\u001b[0;34m\u001b[0m\u001b[0m\n\u001b[1;32m      2\u001b[0m \u001b[0mplt\u001b[0m\u001b[0;34m.\u001b[0m\u001b[0msubplot\u001b[0m\u001b[0;34m(\u001b[0m\u001b[0;36m1\u001b[0m\u001b[0;34m,\u001b[0m \u001b[0;36m2\u001b[0m\u001b[0;34m,\u001b[0m \u001b[0;36m1\u001b[0m\u001b[0;34m)\u001b[0m\u001b[0;34m\u001b[0m\u001b[0m\n\u001b[0;32m----> 3\u001b[0;31m \u001b[0mplt\u001b[0m\u001b[0;34m.\u001b[0m\u001b[0mimshow\u001b[0m\u001b[0;34m(\u001b[0m\u001b[0my_tr\u001b[0m\u001b[0;34m[\u001b[0m\u001b[0mb\u001b[0m\u001b[0;34m]\u001b[0m\u001b[0;34m)\u001b[0m\u001b[0;34m\u001b[0m\u001b[0m\n\u001b[0m\u001b[1;32m      4\u001b[0m \u001b[0mplt\u001b[0m\u001b[0;34m.\u001b[0m\u001b[0msubplot\u001b[0m\u001b[0;34m(\u001b[0m\u001b[0;36m1\u001b[0m\u001b[0;34m,\u001b[0m \u001b[0;36m2\u001b[0m\u001b[0;34m,\u001b[0m \u001b[0;36m2\u001b[0m\u001b[0;34m)\u001b[0m\u001b[0;34m\u001b[0m\u001b[0m\n\u001b[1;32m      5\u001b[0m \u001b[0mplt\u001b[0m\u001b[0;34m.\u001b[0m\u001b[0mimshow\u001b[0m\u001b[0;34m(\u001b[0m\u001b[0mUP_predict_probas\u001b[0m\u001b[0;34m(\u001b[0m\u001b[0mUP_X_test\u001b[0m\u001b[0;34m[\u001b[0m\u001b[0mb\u001b[0m\u001b[0;34m:\u001b[0m\u001b[0mb\u001b[0m\u001b[0;34m+\u001b[0m\u001b[0;36m1\u001b[0m\u001b[0;34m]\u001b[0m\u001b[0;34m)\u001b[0m\u001b[0;34m[\u001b[0m\u001b[0;36m0\u001b[0m\u001b[0;34m]\u001b[0m\u001b[0;34m)\u001b[0m\u001b[0;34m\u001b[0m\u001b[0m\n",
      "\u001b[0;31mNameError\u001b[0m: name 'y_tr' is not defined"
     ]
    },
    {
     "data": {
      "image/png": "[encoded data removed]",
      "text/plain": [
       "<matplotlib.figure.Figure at 0x7fefd367b7b8>"
      ]
     },
     "metadata": {},
     "output_type": "display_data"
    }
   ],
   "source": [
    "b = 23\n",
    "plt.subplot(1, 2, 1)\n",
    "plt.imshow(y[b])\n",
    "plt.subplot(1, 2, 2)\n",
    "plt.imshow(UP_predict_probas(UP_X_test[b:b+1])[0])"
   ]
  },
  {
   "cell_type": "code",
   "execution_count": null,
   "metadata": {
    "collapsed": true
   },
   "outputs": [],
   "source": [
    "1"
   ]
  },
  {
   "cell_type": "code",
   "execution_count": 23,
   "metadata": {
    "collapsed": true
   },
   "outputs": [],
   "source": [
    "import pickle\n",
    "pickle.dump(lasagne.layers.get_all_param_values(up_nn), open('up_nn', 'wb'),protocol=pickle.HIGHEST_PROTOCOL)"
   ]
  },
  {
   "cell_type": "code",
   "execution_count": null,
   "metadata": {
    "collapsed": true
   },
   "outputs": [],
   "source": [
    "1"
   ]
  },
  {
   "cell_type": "code",
   "execution_count": null,
   "metadata": {
    "collapsed": true
   },
   "outputs": [],
   "source": []
  }
 ],
 "metadata": {
  "kernelspec": {
   "display_name": "Python [conda env:py35]",
   "language": "python",
   "name": "conda-env-py35-py"
  },
  "language_info": {
   "codemirror_mode": {
    "name": "ipython",
    "version": 3
   },
   "file_extension": ".py",
   "mimetype": "text/x-python",
   "name": "python",
   "nbconvert_exporter": "python",
   "pygments_lexer": "ipython3",
   "version": "3.5.3"
  }
 },
 "nbformat": 4,
 "nbformat_minor": 2
}
